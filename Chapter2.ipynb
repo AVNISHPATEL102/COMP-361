{
  "nbformat": 4,
  "nbformat_minor": 0,
  "metadata": {
    "celltoolbar": "Slideshow",
    "kernelspec": {
      "display_name": "Python 3",
      "language": "python",
      "name": "python3"
    },
    "language_info": {
      "codemirror_mode": {
        "name": "ipython",
        "version": 3
      },
      "file_extension": ".py",
      "mimetype": "text/x-python",
      "name": "python",
      "nbconvert_exporter": "python",
      "pygments_lexer": "ipython3",
      "version": "3.7.3"
    },
    "colab": {
      "name": "Chapter2.ipynb",
      "provenance": []
    }
  },
  "cells": [
    {
      "cell_type": "markdown",
      "metadata": {
        "id": "V1rrG4Q_1Wrb",
        "colab_type": "text"
      },
      "source": [
        "# Chapter 2: Systems of Linear Algebraic Equations\n",
        "\n",
        "*Warning:* This is a critical chapter of the course.\n",
        "\n",
        "## 2.1 Introduction\n",
        "\n",
        "### Notation\n",
        "\n",
        "A system of linear algebraic equations is written as follows:\n",
        "\n",
        "$$\n",
        "A_{11}x_1 + A_{12}x_2 + \\ldots + A_{1n}x_n = b_1\\\\\n",
        "A_{21}x_1 + A_{22}x_2 + \\ldots + A_{2n}x_n = b_2\\\\\n",
        ".\\\\\n",
        ".\\\\\n",
        ".\\\\\n",
        "A_{n1}x_1 + A_{n2}x_2 + \\ldots + A_{nn}x_n = b_n\n",
        "$$\n",
        "\n",
        "where $x_i$ are the unknowns."
      ]
    },
    {
      "cell_type": "markdown",
      "metadata": {
        "id": "RN7IviEx1Wrh",
        "colab_type": "text"
      },
      "source": [
        "It can be represented as $\\textbf{Ax}=\\textbf{b}$, where A is an $n \\times n$ matrix, $\\textbf{x}$ is a vector of n unknowns and $\\textbf{b}$ is a vector of $n$ constants:\n",
        "\n",
        "$$\n",
        "    \\begin{bmatrix}\n",
        "        A_{11} & A_{12} & ... & A_{1n} \\\\\n",
        "        A_{21} & A_{22} & ... & A_{2n} \\\\\n",
        "        ...    & ...    & ... & ...    \\\\\n",
        "        A_{n1} & A_{n2} & ... & A_{nn}\n",
        "    \\end{bmatrix}\n",
        "    \\begin{bmatrix}\n",
        "    x_1\\\\\n",
        "    x_2\\\\\n",
        "    ...\\\\\n",
        "    x_n\n",
        "    \\end{bmatrix}\n",
        "    =\n",
        "    \\begin{bmatrix}\n",
        "    b_1\\\\\n",
        "    b_2\\\\\n",
        "    ...\\\\\n",
        "    b_n\n",
        "    \\end{bmatrix}\n",
        "$$\n",
        "\n",
        "It is also sometimes written using the *augmented form* combining $\\textbf{A}$ and $\\textbf{b}$ in a single matrix:\n",
        "$$\n",
        "\\left[\n",
        "\\begin{array}{cccc|c}\n",
        " A_{11} & A_{12} & ... & A_{1n} & b_{1}\\\\\n",
        "        A_{21} & A_{22} & ... & A_{2n} & b_{2} \\\\\n",
        "        ...    & ...    & ... & ...    & ... \\\\\n",
        "        A_{n1} & A_{n2} & ... & A_{nn} & b_{n}\n",
        "\\end{array}\n",
        "\\right]\n",
        "$$\n"
      ]
    },
    {
      "cell_type": "markdown",
      "metadata": {
        "id": "NAoR2dUl1Wrj",
        "colab_type": "text"
      },
      "source": [
        "Let's do a brief [recap on linear algebra](Matrix-algebra.ipynb)..."
      ]
    },
    {
      "cell_type": "markdown",
      "metadata": {
        "id": "E-g_68aq1Wrq",
        "colab_type": "text"
      },
      "source": [
        "### Existence and Uniqueness of Solution\n",
        "\n",
        "A system of $n$ linear algebraic equations has a unique solution if and only if $\\textbf{A}$ is *nonsingular*, that is: det($\\textbf{A}$) $\\neq$ 0.\n",
        "\n",
        "If $\\textbf{A}$ is singular, the system has no solution or an infinite number of solutions."
      ]
    },
    {
      "cell_type": "markdown",
      "metadata": {
        "id": "GReenvnr1Wr7",
        "colab_type": "text"
      },
      "source": [
        "#### Exercice 2.1.2 (in class)\n",
        "\n",
        "* Find examples of 2x2 matrices with a zero determinant.\n",
        "* Find examples of systems with (1) no solution, (2) an infinite number of solutions."
      ]
    },
    {
      "cell_type": "markdown",
      "metadata": {
        "id": "qvOlk9-C1Wr8",
        "colab_type": "text"
      },
      "source": [
        "[A few more words on linear algebra](Matrix-algebra.ipynb)..."
      ]
    },
    {
      "cell_type": "markdown",
      "metadata": {
        "id": "S_QZUs6F1Wr9",
        "colab_type": "text"
      },
      "source": [
        "### Conditioning\n",
        "\n",
        "When the determinant of $\\textbf{A}$ is \"very small\", small changes in the matrix result in large changes in the solution. In this case, the solution $\\underline{\\mathrm{cannot\\ be\\ trusted}}$.\n",
        "\n",
        "The *condition number* of a matrix is defined as:\n",
        "\n",
        "$$\n",
        "\\mathrm{cond}(\\textbf{A}) = ||\\textbf{A}||.||\\textbf{A}^{-1}||\n",
        "$$\n",
        "\n",
        "If the condition number is close to unity, the matrix is well conditioned. On the contrary, a matrix with a large condition number is said to be $\\underline{\\mathrm{ill-conditioned}}$.\n",
        "\n",
        "Let's write a function to compute the condition number of a matrix:"
      ]
    },
    {
      "cell_type": "code",
      "metadata": {
        "id": "GOAcSKh11Wr_",
        "colab_type": "code",
        "colab": {}
      },
      "source": [
        "def norm(a): # infinity norm\n",
        "    n = 0\n",
        "    for row in a:\n",
        "        s = sum(abs(row))\n",
        "        if s > n:\n",
        "            n = s\n",
        "    return n\n",
        "                \n",
        "def condition(a):\n",
        "    from numpy.linalg import inv # this is cheating :), we'll see later how to compute the inverse of a matrix\n",
        "    return norm(a)*norm(inv(a))"
      ],
      "execution_count": 0,
      "outputs": []
    },
    {
      "cell_type": "markdown",
      "metadata": {
        "id": "WWAZfaG51Wsx",
        "colab_type": "text"
      },
      "source": [
        "And let's compute the condition number of the following matrix:\n",
        "\n",
        "$$\n",
        "\\textbf{A}=\n",
        "\\begin{bmatrix}\n",
        "        1 & -1.001 \\\\\n",
        "        2.001 & -2  \n",
        "    \\end{bmatrix}\n",
        "$$\n",
        "\n",
        "Using our function:"
      ]
    },
    {
      "cell_type": "code",
      "metadata": {
        "id": "Nfn2ZyMY1Ws1",
        "colab_type": "code",
        "colab": {},
        "outputId": "1a7699da-05ee-45d6-a7b4-0cdf8dce5097"
      },
      "source": [
        "from numpy import array\n",
        "a = array([[1, -1.001], [2.001, -2]])\n",
        "condition(a)"
      ],
      "execution_count": 0,
      "outputs": [
        {
          "output_type": "execute_result",
          "data": {
            "text/plain": [
              "4001.000000000308"
            ]
          },
          "metadata": {
            "tags": []
          },
          "execution_count": 2
        }
      ]
    },
    {
      "cell_type": "markdown",
      "metadata": {
        "id": "6tM8DaQ-1WtB",
        "colab_type": "text"
      },
      "source": [
        "And using numpy:"
      ]
    },
    {
      "cell_type": "code",
      "metadata": {
        "id": "4uypZ56N1WtD",
        "colab_type": "code",
        "colab": {},
        "outputId": "8ed677c8-5013-4beb-8efb-5352111ddd67"
      },
      "source": [
        "from numpy import inf\n",
        "from numpy.linalg import cond\n",
        "cond(a, p=inf)"
      ],
      "execution_count": 0,
      "outputs": [
        {
          "output_type": "execute_result",
          "data": {
            "text/plain": [
              "4001.000000000308"
            ]
          },
          "metadata": {
            "tags": []
          },
          "execution_count": 3
        }
      ]
    },
    {
      "cell_type": "markdown",
      "metadata": {
        "id": "ARG_v7F11WtI",
        "colab_type": "text"
      },
      "source": [
        "In practice, computing $\\textbf{A}^{-1}$ is expensive. Conditioning is often gauged by comparing the determinant with the magnitude of the elements in the matrix: if the determinant is small compared to the elements of the matrix, the matrix will be gauged *ill-conditioned*."
      ]
    },
    {
      "cell_type": "markdown",
      "metadata": {
        "id": "GfyBx7GM1WtJ",
        "colab_type": "text"
      },
      "source": [
        "#### Exercice: Effect of ill-conditioning on solutions.\n",
        "\n",
        "1. Solve the linear system defined by $\\textbf{Ax}$=$\\textbf{b}$, where:\n",
        "$\n",
        "\\textbf{A}=\n",
        "\\begin{bmatrix}\n",
        "        1 & -1.001 \\\\\n",
        "        2.001 & -2  \n",
        "    \\end{bmatrix}\n",
        "$\n",
        "and\n",
        "$\n",
        "\\textbf{b}=\n",
        "\\begin{bmatrix}\n",
        "        3 \\\\\n",
        "        7  \n",
        "    \\end{bmatrix}\n",
        "$\n"
      ]
    },
    {
      "cell_type": "code",
      "metadata": {
        "id": "odbX5p7Q1WtK",
        "colab_type": "code",
        "colab": {},
        "outputId": "d5a44b8d-287b-4945-86ea-b1d875d0083b"
      },
      "source": [
        "from numpy import array\n",
        "from numpy.linalg import solve # let's cheat for now, we'll program this in the next section\n",
        "\n",
        "a = array([[1, -1.001], [2.001, -2]])\n",
        "b = array([3, 7])\n",
        "solve(a, b)"
      ],
      "execution_count": 0,
      "outputs": [
        {
          "output_type": "execute_result",
          "data": {
            "text/plain": [
              "array([335.55481506, 332.22259247])"
            ]
          },
          "metadata": {
            "tags": []
          },
          "execution_count": 4
        }
      ]
    },
    {
      "cell_type": "markdown",
      "metadata": {
        "id": "rSR4bIut1WtQ",
        "colab_type": "text"
      },
      "source": [
        "2. Solve the linear system defined by $\\textbf{Ax}$=$\\textbf{b}$, where:\n",
        "$\n",
        "\\textbf{A}=\n",
        "\\begin{bmatrix}\n",
        "        1 & -1.002 \\\\\n",
        "        2.002 & -2  \n",
        "    \\end{bmatrix}\n",
        "$\n",
        "and\n",
        "$\n",
        "\\textbf{b}=\n",
        "\\begin{bmatrix}\n",
        "        3 \\\\\n",
        "        7  \n",
        "    \\end{bmatrix}\n",
        "$"
      ]
    },
    {
      "cell_type": "code",
      "metadata": {
        "id": "c2F4QGwW1WtT",
        "colab_type": "code",
        "colab": {},
        "outputId": "640e048d-2432-404c-a1cd-77fd231baac0"
      },
      "source": [
        "from numpy.linalg import solve # let's cheat for now, we'll program this in the next section\n",
        "\n",
        "a = array([[1, -1.002], [2.002, -2]])\n",
        "solve(a, b)"
      ],
      "execution_count": 0,
      "outputs": [
        {
          "output_type": "execute_result",
          "data": {
            "text/plain": [
              "array([168.88740839, 165.5562958 ])"
            ]
          },
          "metadata": {
            "tags": []
          },
          "execution_count": 5
        }
      ]
    },
    {
      "cell_type": "markdown",
      "metadata": {
        "id": "yYo2x0oe1Wta",
        "colab_type": "text"
      },
      "source": [
        "A 0.001 increment on matrix coefficients divided the solution by a factor of 2!"
      ]
    },
    {
      "cell_type": "markdown",
      "metadata": {
        "id": "s9H05I9P1Wtc",
        "colab_type": "text"
      },
      "source": [
        "### Methods of Solution\n",
        "\n",
        "There are two classes of methods to solve linear systems:\n",
        "* Direct methods\n",
        "* Iterative methods\n",
        "\n",
        "Direct methods work by applying the following three operations to rewrite the system in a form that permits resolution:\n",
        "* Exchanging two equations\n",
        "* Multiplying an equation by a nonzero constant\n",
        "* Subtracting an equation from another one\n",
        "\n",
        "Iterative methods start with an initial solution $\\textbf{x}$ and refine it until convergence. Iterative methods are generally used when the matrix is very large and sparse, for instance to solve the [PageRank](https://en.wikipedia.org/wiki/PageRank) equations.\n"
      ]
    },
    {
      "cell_type": "markdown",
      "metadata": {
        "id": "oqBYMOuu1Wtd",
        "colab_type": "text"
      },
      "source": [
        "#### Overview of Direct Methods\n",
        "\n",
        "Direct methods are summarized in the Table below:\n",
        "\n",
        "| Method        | Initial form    | Final form  |\n",
        "| ------------- |:-------------:| -----:|\n",
        "| Gauss Elimination      | $\\textbf{Ax}=\\textbf{b}$ | $\\textbf{Ux}=\\textbf{c}$ |\n",
        "| LU decomposition      | $\\textbf{Ax}=\\textbf{b}$      |   $\\textbf{LUx}=\\textbf{b}$ |\n",
        "| Gauss-Jordan Elimination | $\\textbf{Ax}=\\textbf{b}$      |    $\\textbf{Ix}=\\textbf{c}$ |\n",
        "\n",
        "In this table, $\\textbf{U}$ represents an upper triangular matrix, $\\textbf{L}$ is a lower triangular matrix, and $\\textbf{I}$ is the identity matrix. \n",
        "\n",
        "A square matrix is called triangular if it contains only zero elements below (lower triangular) or above (upper triangular) the diagonal. For instance, the following matrix is upper triangular:\n",
        "$$\n",
        "\\textbf{U}=\\begin{bmatrix}\n",
        "1 & 2 & 3 \\\\\n",
        "0 & 4 & 5 \\\\\n",
        "0 & 0 & 6\n",
        "\\end{bmatrix}\n",
        "$$\n",
        "and the following matrix is lower triangular:\n",
        "$$\n",
        "\\textbf{L}=\\begin{bmatrix}\n",
        "1 & 0 & 0 \\\\\n",
        "2 & 3 & 0 \\\\\n",
        "4 & 5 & 6\n",
        "\\end{bmatrix}\n",
        "$$\n",
        "\n",
        "Systems of the form $\\textbf{Lx}$=$\\textbf{c}$ can easily be solved by a procedure called $\\underline{\\mathrm{forward\\ substitution}}$: the first equation has only a single unknown, which is easy to solve; after solving the first equation, the second one has only one unknown remaining, and so on."
      ]
    },
    {
      "cell_type": "markdown",
      "metadata": {
        "id": "COyAUCHm1Wte",
        "colab_type": "text"
      },
      "source": [
        "#### Exercice\n",
        "\n",
        "Solve the system of linear equations defined by $\\textbf{Lx}$=$\\textbf{c}$, where:\n",
        "$\n",
        "\\textbf{L}=\n",
        "\\begin{bmatrix}\n",
        "        1 & 0 & 0 \\\\\n",
        "        2 & 4 & 0 \\\\\n",
        "        3 & 1  & 1\n",
        "    \\end{bmatrix}\n",
        "$ \n",
        "and\n",
        "$\n",
        "\\textbf{b}=\n",
        "\\begin{bmatrix}\n",
        "        1\\\\\n",
        "        3\\\\\n",
        "        2\n",
        "    \\end{bmatrix}\n",
        "$ \n",
        "\n"
      ]
    },
    {
      "cell_type": "code",
      "metadata": {
        "id": "iGEp4qBw1Wtf",
        "colab_type": "code",
        "colab": {},
        "outputId": "b4fef29b-13a1-4479-f914-73e86d117b5e"
      },
      "source": [
        "# You can verify your solution as follows, but the point is to do it manually to understand\n",
        "# how useful triangular matrices are!\n",
        "from numpy.linalg import solve\n",
        "\n",
        "a = array([[1, 0, 0], [2, 4, 0], [3, 1, 1]])\n",
        "b = array([1, 3, 2])\n",
        "solve(a, b)"
      ],
      "execution_count": 0,
      "outputs": [
        {
          "output_type": "execute_result",
          "data": {
            "text/plain": [
              "array([ 1.  ,  0.25, -1.25])"
            ]
          },
          "metadata": {
            "tags": []
          },
          "execution_count": 6
        }
      ]
    },
    {
      "cell_type": "markdown",
      "metadata": {
        "id": "UMKRwoef1Wtm",
        "colab_type": "text"
      },
      "source": [
        "Likewise, systems of the form $\\textbf{Ux}$=$\\textbf{b}$ can easily be solved by $\\underline{\\mathrm{back\\  substitution}}$, solving the last equation first. \n",
        "\n",
        "For instance, solve $\\textbf{Ux}=b$, where:\n",
        "$\n",
        "\\textbf{U}=\n",
        "\\begin{bmatrix}\n",
        "        3 & 1 & 1 \\\\\n",
        "        0 & 4 & 2 \\\\\n",
        "        0 & 0  & 1\n",
        "    \\end{bmatrix}\n",
        "$ \n",
        "and\n",
        "$\n",
        "\\textbf{b}=\n",
        "\\begin{bmatrix}\n",
        "        1\\\\\n",
        "        3\\\\\n",
        "        2\n",
        "    \\end{bmatrix}\n",
        "$ \n"
      ]
    },
    {
      "cell_type": "code",
      "metadata": {
        "id": "keRT-cs01Wtp",
        "colab_type": "code",
        "colab": {},
        "outputId": "2b4c90fd-abeb-46c3-c753-dc71ebdc1825"
      },
      "source": [
        "U = array([[3, 1, 1], [0, 4, 2], [0, 0, 1]])\n",
        "b = array([1, 3, 2])\n",
        "solve(U, b)"
      ],
      "execution_count": 0,
      "outputs": [
        {
          "output_type": "execute_result",
          "data": {
            "text/plain": [
              "array([-0.25, -0.25,  2.  ])"
            ]
          },
          "metadata": {
            "tags": []
          },
          "execution_count": 7
        }
      ]
    },
    {
      "cell_type": "markdown",
      "metadata": {
        "id": "kDJF9XZM1Wtt",
        "colab_type": "text"
      },
      "source": [
        "Finally, systems of the form $\\textbf{LUx}$=$\\textbf{b}$ can quickly be solved by solving first $\\textbf{Ly}$=$\\textbf{b}$ by forward substitution, and then $\\textbf{Ux}$=$\\textbf{y}$ by back substitution.\n",
        "\n",
        "### Exercice (Example 2.2 in textbook)\n",
        "\n",
        "Solve the equations $\\textbf{Ax}$=$\\textbf{b}$, where:\n",
        "$$\n",
        "\\textbf{A}=\n",
        "\\begin{bmatrix}\n",
        "        8 & -6 & 2 \\\\\n",
        "        -4 & 11 & -7 \\\\\n",
        "        4 & -7  & 6\n",
        "    \\end{bmatrix}\n",
        "    \\quad\n",
        "\\textbf{b}=\n",
        "\\begin{bmatrix}\n",
        "        28\\\\\n",
        "        -40\\\\\n",
        "        33\n",
        "    \\end{bmatrix}\n",
        "$$ \n",
        "knowing that the LU decomposition of $\\textbf{A}$ is (you should verify this):\n",
        "$$\n",
        "\\textbf{A}=\\textbf{LU}=\n",
        "\\begin{bmatrix}\n",
        "        2 & 0 & 0 \\\\\n",
        "        -1 & 2 & 0 \\\\\n",
        "        1 & -1  & 1\n",
        "    \\end{bmatrix}\n",
        "    \\begin{bmatrix}\n",
        "        4 & -3 & 1 \\\\\n",
        "        0 & 4 & -3 \\\\\n",
        "        0 & 0  & 2\n",
        "    \\end{bmatrix}\n",
        "$$\n",
        "(done manually in class)\n"
      ]
    },
    {
      "cell_type": "code",
      "metadata": {
        "id": "7nY2aGC21Wtw",
        "colab_type": "code",
        "colab": {},
        "outputId": "9c713d06-8570-4ba7-9fb1-a58b1a335a03"
      },
      "source": [
        "# You should be able to do this manually\n",
        "from numpy import array, dot\n",
        "a = array([[8, -6, 2], [-4, 11, -7], [4, -7, 6]])\n",
        "b = array([28, -40, 33])\n",
        "l = array([[2, 0, 0], [-1, 2, 0], [1, -1, 1]])\n",
        "u = array([[4, -3, 1], [0, 4, -3], [0, 0, 2]])\n",
        "# Check if the factorization is correct\n",
        "dot(l, u)\n"
      ],
      "execution_count": 0,
      "outputs": [
        {
          "output_type": "execute_result",
          "data": {
            "text/plain": [
              "array([[ 8, -6,  2],\n",
              "       [-4, 11, -7],\n",
              "       [ 4, -7,  6]])"
            ]
          },
          "metadata": {
            "tags": []
          },
          "execution_count": 8
        }
      ]
    },
    {
      "cell_type": "code",
      "metadata": {
        "id": "Gq9PWBHe1Wt_",
        "colab_type": "code",
        "colab": {},
        "outputId": "5a87c1ca-f3f6-44ec-f96c-5b5dc9033c7e"
      },
      "source": [
        "# Solving without the LU decomposition\n",
        "from numpy.linalg import solve\n",
        "solve(a, b)"
      ],
      "execution_count": 0,
      "outputs": [
        {
          "output_type": "execute_result",
          "data": {
            "text/plain": [
              "array([ 2., -1.,  3.])"
            ]
          },
          "metadata": {
            "tags": []
          },
          "execution_count": 9
        }
      ]
    },
    {
      "cell_type": "code",
      "metadata": {
        "id": "Ti0vaN9h1WuD",
        "colab_type": "code",
        "colab": {},
        "outputId": "9f98da1f-2fa3-4007-f736-a410569f2270"
      },
      "source": [
        "# Solving with the decomposition\n",
        "y = solve(l, b)\n",
        "solve(u, y)"
      ],
      "execution_count": 0,
      "outputs": [
        {
          "output_type": "execute_result",
          "data": {
            "text/plain": [
              "array([ 2., -1.,  3.])"
            ]
          },
          "metadata": {
            "tags": []
          },
          "execution_count": 10
        }
      ]
    },
    {
      "cell_type": "markdown",
      "metadata": {
        "id": "OkY_5m_q1WuL",
        "colab_type": "text"
      },
      "source": [
        "## 2.2 Gauss Elimination\n",
        "\n",
        "This method consists of two phases:\n",
        "1. The elimination phase, to transform the equations in the form $\\textbf{Ux}$=$\\textbf{c}$,\n",
        "2. The back substitution phase, to solve the equations."
      ]
    },
    {
      "cell_type": "markdown",
      "metadata": {
        "id": "Tw6CCvdO1WuQ",
        "colab_type": "text"
      },
      "source": [
        "### Elimination phase\n",
        "\n",
        "The elimination phase multiplies equations by a constant and subtracts them, which is represented as follows:\n",
        "$$\n",
        "Eq.(i) \\leftarrow Eq.(i) - \\lambda Eq.(j)\n",
        "$$\n",
        "Equation $\\textit{j}$ is called the $\\textit{pivot}$."
      ]
    },
    {
      "cell_type": "markdown",
      "metadata": {
        "id": "uPAFLMvw1WuT",
        "colab_type": "text"
      },
      "source": [
        "For instance, let's consider the following equations:\n",
        "\n",
        "$$\n",
        "  3x_1+2x_2-7x_3=4  \\quad (a)\\\\\n",
        "  2x_1-x_2-4x_3=1   \\quad (b)\\\\\n",
        "  -x_1-3x_2+x_3=3   \\quad (c)\n",
        "$$"
      ]
    },
    {
      "cell_type": "markdown",
      "metadata": {
        "id": "kD_xmpTw1WuW",
        "colab_type": "text"
      },
      "source": [
        "We start the process by choosing Equation (a) as the pivot, and chosing $\\lambda$ to eliminate $x_1$ from Equations (b) and (c):\n",
        "$$\n",
        "Eq.(b) \\leftarrow Eq.(b) - \\frac{2}{3}Eq.(a)\\\\\n",
        "Eq.(c) \\leftarrow Eq.(c) - \\left( -\\frac{1}{3} \\right)Eq.(a)\n",
        "$$"
      ]
    },
    {
      "cell_type": "markdown",
      "metadata": {
        "id": "L5pIqmqO1Wua",
        "colab_type": "text"
      },
      "source": [
        "which gives:\n",
        "$$\n",
        "  3x_1+2x_2-7x_3=4  \\quad (a)\\\\\n",
        "  -\\frac{7}{3}x_2+\\frac{2}{3}x_3=-\\frac{5}{3}   \\quad (b)\\\\\n",
        "  -\\frac{7}{3}x_2-\\frac{4}{3}x_3=\\frac{13}{3}   \\quad (c)\n",
        "$$"
      ]
    },
    {
      "cell_type": "markdown",
      "metadata": {
        "id": "HoaHMkCl1Wub",
        "colab_type": "text"
      },
      "source": [
        "We now reiterate the process by choosing Equation (b) as the pivot to eliminate $x_2$ from Equation (c):\n",
        "$$\n",
        "Eq.(c) \\leftarrow Eq.(c) - Eq.(b)\n",
        "$$"
      ]
    },
    {
      "cell_type": "markdown",
      "metadata": {
        "id": "q0fya5dj1Wuc",
        "colab_type": "text"
      },
      "source": [
        "which gives:\n",
        "$$\n",
        "  3x_1+2x_2-7x_3=4  \\quad (a)\\\\\n",
        "  -\\frac{7}{3}x_2+\\frac{2}{3}x_3=-\\frac{5}{3}   \\quad (b)\\\\\n",
        "  -2x_3=\\frac{18}{3}   \\quad (c)\n",
        "$$\n",
        "The elimination phase is complete.\n"
      ]
    },
    {
      "cell_type": "markdown",
      "metadata": {
        "id": "ysFkHTqP1Wud",
        "colab_type": "text"
      },
      "source": [
        "Using the augmented notation, the process is written as follows:\n",
        "$$\n",
        "\\left[\n",
        "\\begin{array}{ccc|c}\n",
        "3 & 2 & -7 & 4 \\\\\n",
        "2 & -1 & -4 & 1 \\\\\n",
        "-1 & -3 & 1 & 3\n",
        "\\end{array}\n",
        "\\right]\n",
        "$$\n",
        "\n",
        "$$\n",
        "\\left[\n",
        "\\begin{array}{ccc|c}\n",
        "3 & 2 & -7 & 4 \\\\\n",
        "0 & -7/3 & 2/3 & -5/3 \\\\\n",
        "0 & -7/3 & -4/3 & 13/3\n",
        "\\end{array}\n",
        "\\right]\n",
        "$$\n",
        "\n",
        "$$\n",
        "\\left[\n",
        "\\begin{array}{ccc|c}\n",
        "3 & 2 & -7 & 4 \\\\\n",
        "0 & -7/3 & 2/3 & -5/3 \\\\\n",
        "0 & 0 & -2 & 18/3\n",
        "\\end{array}\n",
        "\\right]\n",
        "$$"
      ]
    },
    {
      "cell_type": "markdown",
      "metadata": {
        "id": "qC4EbLHV1Wue",
        "colab_type": "text"
      },
      "source": [
        "### Back substitution\n",
        "\n",
        "We can now solve the equations by back substitution:\n",
        "$$\n",
        "x_3 = -\\frac{9}{3} = -3 \\quad (c) \\\\\n",
        "x_2 = -\\frac{3}{7} \\left(-\\frac{5}{3} + 2 \\right) = - \\frac{1}{7}\\quad (b) \\\\\n",
        "x_1 = \\frac{1}{3}\\left( 4 + \\frac{2}{7} - 21\\right) = -\\frac{39}{7} \\quad (a)\n",
        "$$"
      ]
    },
    {
      "cell_type": "markdown",
      "metadata": {
        "id": "xMOk8rcs1Wug",
        "colab_type": "text"
      },
      "source": [
        "### Note\n",
        "\n",
        "* The elimination phase leaves the determinant of the matrix unchanged.\n",
        "* The determinant of a triangular matrix is the product of its diagonal coefficients.\n",
        "\n",
        "Thus:\n",
        "\n",
        "$$\n",
        "\\mathrm{det}\\left(\n",
        "\\begin{bmatrix}\n",
        "3 & 2 & -7 \\\\\n",
        "2 & -1 & -4 \\\\\n",
        "-1 & -3 & 1\n",
        "\\end{bmatrix}\n",
        "\\right) = 3.-\\frac{7}{3}.-2 = 14\n",
        "$$"
      ]
    },
    {
      "cell_type": "code",
      "metadata": {
        "id": "_jPKGTZX1Wuh",
        "colab_type": "code",
        "colab": {},
        "outputId": "aa85690f-82ab-4c9c-9b08-a87d142e6a4c"
      },
      "source": [
        "from numpy.linalg import det\n",
        "from numpy import array\n",
        "a = array([[3, 2, -7], [2, -1, -4], [-1, -3, 1]])\n",
        "det(a)"
      ],
      "execution_count": 0,
      "outputs": [
        {
          "output_type": "execute_result",
          "data": {
            "text/plain": [
              "13.999999999999996"
            ]
          },
          "metadata": {
            "tags": []
          },
          "execution_count": 11
        }
      ]
    },
    {
      "cell_type": "markdown",
      "metadata": {
        "id": "g_h4O_Ki1Wuu",
        "colab_type": "text"
      },
      "source": [
        "### Algorithm for Gauss Elimination Method\n",
        "\n",
        "#### Elimination Phase\n",
        "\n",
        "Let's look at the equations at iteration $k$ of the elimination process.\n",
        "\n",
        "* The first $k$ rows have already been transformed.\n",
        "* Row $k$ is the pivot row\n",
        "* Row $i$ is the row being transformed\n",
        "\n",
        "The augmented coefficient matrix is:\n",
        "$$\n",
        "\\left[\n",
        "\\begin{array}{ccccccccc|c}\n",
        "A_{11} & A_{12} & A_{13} & \\ldots & A_{1k} & \\ldots & A_{1j} & \\ldots & A_{1n} & b_1 \\\\\n",
        "0      & A_{22} & A_{23} & \\ldots & A_{2k} & \\ldots & A_{2j} & \\ldots & A_{2n} & b_2 \\\\\n",
        "0      & 0      & A_{33} & \\ldots & A_{3k} & \\ldots & A_{3j} & \\ldots & A_{3n} & b_3 \\\\\n",
        "\\ldots \\\\\n",
        "0      & 0      & 0 & \\ldots & A_{kk} & \\ldots & A_{kj} & \\ldots & A_{kn} & b_k \\\\\n",
        "\\hline\n",
        "\\ldots \\\\\n",
        "0      & 0      & 0 & \\ldots & A_{ik} & \\ldots & A_{ij} & \\ldots & A_{in} & b_i \\\\\n",
        "\\ldots \\\\\n",
        "0      & 0      & 0 & \\ldots & A_{nk} & \\ldots & A_{nj} & \\ldots & A_{nn} & b_n\n",
        "\\end{array}\n",
        "\\right]\n",
        "$$\n",
        "Note: the coefficients are not the one of the original matrix.\n"
      ]
    },
    {
      "cell_type": "markdown",
      "metadata": {
        "id": "0YWY-Pgj1Wux",
        "colab_type": "text"
      },
      "source": [
        "##### Principle\n",
        "* Use the first $n-1$ rows successively as pivot row $k$.\n",
        "* For each pivot row $k$, transform row $i$ as follows ($k+1\\leq i \\leq n$): \n",
        "$$\n",
        "A_{ij} \\leftarrow A_{ij} - \\lambda_{ik} A_{kj}, \\forall j \\in |[k, n]|\n",
        "$$\n",
        "* With $\\lambda_{ik}$ such that after transformation, $A_{ik}=0$: \n",
        "$$\n",
        "\\lambda_{ik} = \\frac{A_{ik}}{A_{kk}}\n",
        "$$.\n",
        "\n"
      ]
    },
    {
      "cell_type": "markdown",
      "metadata": {
        "id": "xq1DJNlv1Wuy",
        "colab_type": "text"
      },
      "source": [
        "##### Implementation"
      ]
    },
    {
      "cell_type": "code",
      "metadata": {
        "id": "kNYUp40k1Wuz",
        "colab_type": "code",
        "colab": {}
      },
      "source": [
        "from numpy import shape\n",
        "def gauss_elimination(a, b, verbose=False):\n",
        "    n, m = shape(a)\n",
        "    n2,  = shape(b)\n",
        "    assert(n==n2)\n",
        "    for k in range(n-1):\n",
        "        for i in range(k+1, n):\n",
        "            assert(a[k,k] != 0) # woops, what happens in this case? we'll talk about it later!\n",
        "            if (a[i,k] != 0): # no need to do anything when lambda is 0\n",
        "                lmbda = a[i,k]/a[k,k] # lambda is a reserved keyword in Python\n",
        "                a[i, k:n] = a[i, k:n] - lmbda*a[k, k:n] # list slice operations\n",
        "                b[i] = b[i] - lmbda*b[k] # don't forget this step! \n",
        "            if verbose:\n",
        "                print(a, b)"
      ],
      "execution_count": 0,
      "outputs": []
    },
    {
      "cell_type": "markdown",
      "metadata": {
        "id": "ZDRJv_mp1Wu_",
        "colab_type": "text"
      },
      "source": [
        "##### Example"
      ]
    },
    {
      "cell_type": "code",
      "metadata": {
        "id": "OGb_ra1u1WvA",
        "colab_type": "code",
        "colab": {},
        "outputId": "a9841b91-3653-4ab6-9274-7eefb3a9f26d"
      },
      "source": [
        "a = array([[3.0, 2, -7], [2, -1, -4], [-1, -3, 1]])\n",
        "b = [4, 1, 3]\n",
        "gauss_elimination(a, b)\n",
        "print(a,b)"
      ],
      "execution_count": 0,
      "outputs": [
        {
          "output_type": "stream",
          "text": [
            "[[ 3.          2.         -7.        ]\n",
            " [ 0.         -2.33333333  0.66666667]\n",
            " [ 0.          0.         -2.        ]] [4, -1.6666666666666665, 6.0]\n"
          ],
          "name": "stdout"
        }
      ]
    },
    {
      "cell_type": "markdown",
      "metadata": {
        "id": "55h6Weey1WvD",
        "colab_type": "text"
      },
      "source": [
        "#### Back substition phase\n",
        "\n",
        "After the elimination phase, the augmented matrix has the following form:\n",
        "$$\n",
        "\\left[\n",
        "\\begin{array}{ccccc|c}\n",
        "A_{11} & A_{12} & A_{13} & \\ldots & A_{1n} & b_1 \\\\\n",
        "0      & A_{22} & A_{23} & \\ldots & A_{2n} & b_2 \\\\\n",
        "0      & 0      & A_{33} & \\ldots & A_{3n} & b_3 \\\\\n",
        "\\ldots\\\\\n",
        "0      & 0      & 0 & \\ldots & A_{nn} & b_n\n",
        "\\end{array}\n",
        "\\right]\n",
        "$$"
      ]
    },
    {
      "cell_type": "markdown",
      "metadata": {
        "id": "VCs4F4xl1WvD",
        "colab_type": "text"
      },
      "source": [
        "The equations are solved from the last row to the first:\n",
        "* $x_n$ = $b_n/A_{nn}$\n",
        "* $\\forall i < n, \\quad x_i = \\left( b_i - \\sum_{j = i +1}^n{A_{ij}x_{j}} \\right) \\frac{1}{A_{ii}}$"
      ]
    },
    {
      "cell_type": "markdown",
      "metadata": {
        "id": "j4pyC_E41WvE",
        "colab_type": "text"
      },
      "source": [
        "##### Implementation"
      ]
    },
    {
      "cell_type": "code",
      "metadata": {
        "id": "rhB8dZqZ1WvF",
        "colab_type": "code",
        "colab": {}
      },
      "source": [
        "from numpy import dot, zeros, shape\n",
        "def gauss_substitution(a, b):\n",
        "    n, m = shape(a)\n",
        "    n2, = shape(b)\n",
        "    assert(n==n2)\n",
        "    x = zeros(n)\n",
        "    for i in range(n-1, -1, -1): # decreasing index\n",
        "        x[i] = (b[i] - dot(a[i,i+1:], x[i+1:]))/a[i,i]\n",
        "    return x"
      ],
      "execution_count": 0,
      "outputs": []
    },
    {
      "cell_type": "markdown",
      "metadata": {
        "id": "1axTGv5e1WvL",
        "colab_type": "text"
      },
      "source": [
        "##### Exercice\n",
        "\n",
        "Use Gauss elimination to solve $\\textbf{Ax}=\\textbf{b}$ where:\n",
        "$$\n",
        "\\textbf{A} = \\begin{bmatrix}\n",
        "6 & -4 & 1\\\\\n",
        "-4 & 6 & -4 \\\\\n",
        "1 & -4 & 6\n",
        "\\end{bmatrix}\n",
        "\\quad\n",
        "\\mathrm{and}\n",
        "\\quad\n",
        "\\textbf{b} = \\begin{bmatrix}\n",
        "-14 \\\\\n",
        "36\\\\\n",
        "6\n",
        "\\end{bmatrix}\n",
        "$$\n",
        "(done manually in class)"
      ]
    },
    {
      "cell_type": "code",
      "metadata": {
        "id": "vjw6QR2M1WvN",
        "colab_type": "code",
        "colab": {},
        "outputId": "d3b83e4f-5dec-4bd1-ef53-70718127d55e"
      },
      "source": [
        "a = array([[6.0, -4, 1], [-4, 6, -4], [1, -4, 6]])\n",
        "b = [-14, 36, 6]\n",
        "gauss_elimination(a, b)\n",
        "gauss_substitution(a, b)"
      ],
      "execution_count": 0,
      "outputs": [
        {
          "output_type": "execute_result",
          "data": {
            "text/plain": [
              "array([10., 22., 14.])"
            ]
          },
          "metadata": {
            "tags": []
          },
          "execution_count": 15
        }
      ]
    },
    {
      "cell_type": "code",
      "metadata": {
        "id": "GyxlCrPU1WvS",
        "colab_type": "code",
        "colab": {},
        "outputId": "337e7a20-59ce-4f92-b862-7727f2373dca"
      },
      "source": [
        "# let's test our implementation\n",
        "from numpy.linalg import solve\n",
        "solve(a, b)"
      ],
      "execution_count": 0,
      "outputs": [
        {
          "output_type": "execute_result",
          "data": {
            "text/plain": [
              "array([10., 22., 14.])"
            ]
          },
          "metadata": {
            "tags": []
          },
          "execution_count": 16
        }
      ]
    },
    {
      "cell_type": "markdown",
      "metadata": {
        "id": "FmnuEFtY1WvW",
        "colab_type": "text"
      },
      "source": [
        "#### Complete Solver"
      ]
    },
    {
      "cell_type": "code",
      "metadata": {
        "id": "cLtn-7sS1WvX",
        "colab_type": "code",
        "colab": {}
      },
      "source": [
        "def gauss(a, b):\n",
        "    gauss_elimination(a, b)\n",
        "    return gauss_substitution(a, b)"
      ],
      "execution_count": 0,
      "outputs": []
    },
    {
      "cell_type": "code",
      "metadata": {
        "id": "7AzZOGE41Wve",
        "colab_type": "code",
        "colab": {},
        "outputId": "5c993bd2-ee5d-42d1-ff31-c971e982af24"
      },
      "source": [
        "a = array([[6.0, -4, 1], [-4, 6, -4], [1, -4, 6]])\n",
        "b = [-14, 36, 6]\n",
        "gauss(a, b)"
      ],
      "execution_count": 0,
      "outputs": [
        {
          "output_type": "execute_result",
          "data": {
            "text/plain": [
              "array([10., 22., 14.])"
            ]
          },
          "metadata": {
            "tags": []
          },
          "execution_count": 18
        }
      ]
    },
    {
      "cell_type": "markdown",
      "metadata": {
        "id": "BaAVKy951Wvi",
        "colab_type": "text"
      },
      "source": [
        "### Operations count\n",
        "\n",
        "Counting multiplications and divisions only:\n",
        "\n",
        "Elimination phase:\n",
        "$$\n",
        "\\sum_{k=1}^n \\sum_{i=k+1}^n (n-k) + 2 = \\sum_{k=1}^n (n-k)^2 + 2(n-k) = \\sum_{k=0}^{n-1} k^2 + 2\\sum_{k=0}^{n-1} k\n",
        "=\\frac{(n-1)n(2n-1)}{6}+n(n-1) = \\frac{n(n-1)(2n+5)}{6} = O\\left(\\frac{n^3}{3}\\right)\n",
        "$$\n",
        "\n",
        "Backsubstitution phase:\n",
        "$\\sum_{k=1}^n k=\\frac{n(n+1)}{2}=O\\left(\\frac{n^2}{2}\\right)$"
      ]
    },
    {
      "cell_type": "markdown",
      "metadata": {
        "id": "rD05HcIV1Wvk",
        "colab_type": "text"
      },
      "source": [
        "### Multiple Sets of Equations\n",
        "\n",
        "It is frequently necessary to solve $\\textbf{Ax}=\\textbf{b}$ for multiple values of $\\textbf{b}$. We denote multiple sets of equations by \n",
        "$\\textbf{AX}=\\textbf{B}$, where:\n",
        "\n",
        "$$\n",
        "\\textbf{X}=[\\textbf{x}_1, \\textbf{x}_2, \\ldots \\textbf{x}_m] \\quad \\textbf{B}=[\\textbf{b}_1, \\textbf{b}_2, \\ldots \\textbf{b}_m]\n",
        "$$\n",
        "are $n \\times m$ matrices.\n",
        "\n",
        "An easy way to handle such equations during the elimination phase is to include all constant vectors in the augmented matrix, so that they are transformed simultaneously with the coefficient matrix:\n",
        "$$\n",
        "\\left[\n",
        "\\begin{array}{ccccccccc|cccc}\n",
        "A_{11} & A_{12} & A_{13} & \\ldots & A_{1k} & \\ldots & A_{1j} & \\ldots & A_{1n} & b_{11} & b_{12} & \\ldots & b_{1m} \\\\\n",
        "0      & A_{22} & A_{23} & \\ldots & A_{2k} & \\ldots & A_{2j} & \\ldots & A_{2n} & b_{21} & b_{22} & \\ldots & b_{2m} \\\\\n",
        "0      & 0      & A_{33} & \\ldots & A_{3k} & \\ldots & A_{3j} & \\ldots & A_{3n} & b_{31} & b_{32} & \\ldots & b_{3m} \\\\\n",
        "\\ldots \\\\\n",
        "0      & 0      & 0 & \\ldots & A_{kk} & \\ldots & A_{kj} & \\ldots & A_{kn} & b_{k1} & b_{k2} & \\ldots & b_{km} \\\\ \\\\\n",
        "\\hline\n",
        "\\ldots \\\\\n",
        "0      & 0      & 0 & \\ldots & A_{ik} & \\ldots & A_{ij} & \\ldots & A_{in} & b_{i1} & b_{i2} & \\ldots & b_{im} \\\\ \\\\\n",
        "\\ldots \\\\\n",
        "0      & 0      & 0 & \\ldots & A_{nk} & \\ldots & A_{nj} & \\ldots & A_{nn} & b_{n1} & b_{n2} & \\ldots & b_{nm} \n",
        "\\end{array}\n",
        "\\right]\n",
        "$$\n",
        "\n",
        "\n",
        "$\\underline{\\mathrm{The\\ LU\\ decomposition\\ method\\ provides\\ a\\ more\\ versatile\\ solution}}$.\n"
      ]
    },
    {
      "cell_type": "markdown",
      "metadata": {
        "id": "HPHv3tiW1Wvm",
        "colab_type": "text"
      },
      "source": [
        "## 2.3 LU Decomposition Methods\n",
        "\n",
        "### Introduction\n",
        "\n",
        "Any square matrix $\\textbf{A}$ can be expressed as a product of a lower triangular matrix $\\textbf{L}$ and an upper triangular matrix $\\textbf{U}$:\n",
        "$$\n",
        "\\textbf{A}=\\textbf{LU}\n",
        "$$\n",
        "\n",
        "However, this decomposition is not unique unless certain constraints are placed on $\\textbf{L}$ and $\\textbf{U}$. Common decomposition methods are listed here:\n",
        "\n",
        "| Name        | Constraints    |\n",
        "| ------------- |:-------------:|\n",
        "| Doolittle's decomposition  | $\\textbf{L}_{ii}=1$ |\n",
        "| Crout's decomposition      | $\\textbf{U}_{ii}=1$      |\n",
        "| Choleski decomposition | $\\textbf{L}=\\textbf{U}^T$ |"
      ]
    },
    {
      "cell_type": "markdown",
      "metadata": {
        "id": "JEoHfPV51Wvv",
        "colab_type": "text"
      },
      "source": [
        "From the decomposition of $\\textbf{A}$, it is easy to solve $\\textbf{A}\\textbf{x}=\\textbf{b}$:\n",
        "1. Solve $\\textbf{Ly}=\\textbf{b}$ by forward substitution\n",
        "2. Solve $\\textbf{Ux}=\\textbf{y}$ by back substitution\n",
        "\n",
        "The advantage of the $\\textbf{LU}$ decomposition method is that once $\\textbf{A}$ is decomposed, the cost of solving the system for another instance of $\\textbf{b}$ is relatively small."
      ]
    },
    {
      "cell_type": "markdown",
      "metadata": {
        "id": "XAQE0Rgl1Wvy",
        "colab_type": "text"
      },
      "source": [
        "### Doolittle's Decomposition Method\n",
        "\n",
        "#### Decomposition phase\n",
        "\n",
        "This method is closely related to Gauss elimination. Let's consider a $3 \\times 3$ matrix $\\textbf{A}$ and let's assume that there exists $\\textbf{L}$ and $\\textbf{U}$:\n",
        "$$\n",
        "\\textbf{L} = \\begin{bmatrix}\n",
        "1 & 0 & 0 \\\\\n",
        "L_{21} & 1 & 0 \\\\\n",
        "L_{31} & L_{32} & 1\n",
        "\\end{bmatrix}\n",
        "\\quad\n",
        "\\textbf{U} = \\begin{bmatrix}\n",
        "U_{11} & U_{12} & U_{13}\\\\\n",
        "0      & U_{22} & U_{23}\\\\\n",
        "0      & 0      & U_{33}\n",
        "\\end{bmatrix}\n",
        "$$\n",
        "such that $\\textbf{A}=\\textbf{LU}$. We get:\n",
        "$$\n",
        "\\textbf{A} = \\begin{bmatrix}\n",
        "U_{11} & U_{12} & U_{13} \\\\\n",
        "L_{21}U_{11} & L_{21}U_{12}+U_{22} & L_{21}U_{13}+U_{23}\\\\\n",
        "L_{31}U_{11} & L_{31}U_{12}+L_{32}U_{22} & L_{31}U_{13}+L_{32}U_{23}+U_{33}\n",
        "\\end{bmatrix}\n",
        "$$"
      ]
    },
    {
      "cell_type": "markdown",
      "metadata": {
        "id": "qknvQKsp1Wvy",
        "colab_type": "text"
      },
      "source": [
        "Let's now apply Gauss elimination.\n",
        "\n",
        "First pass:\n",
        "* row2 $\\leftarrow$ row2 - $L_{21}$row1\n",
        "* row3 $\\leftarrow$ row3 - $L_{31}$row1\n",
        "\n",
        "$$\n",
        "\\textbf{A} = \\begin{bmatrix}\n",
        "U_{11} & U_{12} & U_{13} \\\\\n",
        "0 & U_{22} & U_{23}\\\\\n",
        "0 & L_{32}U_{22} & L_{32}U_{23}+U_{33}\n",
        "\\end{bmatrix}$$"
      ]
    },
    {
      "cell_type": "markdown",
      "metadata": {
        "id": "TMEgZYRK1Wvz",
        "colab_type": "text"
      },
      "source": [
        "Second pass:\n",
        "* row3 $\\leftarrow$ row3-$L_{32}$row2\n",
        "\n",
        "$$\n",
        "\\textbf{A} = \\begin{bmatrix}\n",
        "U_{11} & U_{12} & U_{13} \\\\\n",
        "0 & U_{22} & U_{23}\\\\\n",
        "0 & 0 & U_{33}\n",
        "\\end{bmatrix}$$"
      ]
    },
    {
      "cell_type": "markdown",
      "metadata": {
        "id": "cD5S24dO1Wv0",
        "colab_type": "text"
      },
      "source": [
        "This illustration shows 2 properties of Doolittle's decomposition:\n",
        "1. $\\textbf{U}$ is the upper diagonal matrix resulting from Gauss decomposition\n",
        "2. The off-diagonal elements of $\\textbf{L}$ are the multipliers for the pivot equations: $L_{ij}$ is used to eliminate $A_{ij}$"
      ]
    },
    {
      "cell_type": "markdown",
      "metadata": {
        "id": "lBiaOfMq1Wv1",
        "colab_type": "text"
      },
      "source": [
        "It is common to store the multipliers in the lower triangular portion of the matrix. The final form of the coefficient matrix would be:\n",
        "$$\n",
        "[\\textbf{L} \\backslash \\textbf{U}]= \\begin{bmatrix}\n",
        "U_{11} & U_{12} & U_{13} \\\\\n",
        "L_{21} & U_{22} & U_{23} \\\\\n",
        "L_{31} & L_{32} & U_{33}\n",
        "\\end{bmatrix}\n",
        "$$\n",
        "The algorithm is very similar to Gauss elimination:"
      ]
    },
    {
      "cell_type": "code",
      "metadata": {
        "id": "nwkEjkV01Wv2",
        "colab_type": "code",
        "colab": {}
      },
      "source": [
        "from numpy import shape\n",
        "def dolittle_decomp(a, verbose=False):\n",
        "    n, m = shape(a)\n",
        "    assert(n == m) # check that matrix is square\n",
        "    for k in range(n-1):\n",
        "        for i in range(k+1, n):\n",
        "            assert(a[k,k] != 0) # woops, what happens in this case? we'll talk about it later!\n",
        "            if (a[i,k] != 0): # no need to do anything when lambda is 0\n",
        "                lmbda = a[i,k]/a[k,k] # lambda is a reserved keyword in Python\n",
        "                a[i, k:n] = a[i, k:n] - lmbda*a[k, k:n] # list slice operations\n",
        "                a[i, k] = lmbda # <--- new in Dolittle decomposition\n",
        "            if verbose:\n",
        "                print(a)\n",
        "    return a"
      ],
      "execution_count": 0,
      "outputs": []
    },
    {
      "cell_type": "code",
      "metadata": {
        "id": "jCOhKkS21Wv7",
        "colab_type": "code",
        "colab": {},
        "outputId": "89350787-cc27-4000-ff81-09fd0b1d6149"
      },
      "source": [
        "from numpy import array\n",
        "a = array([[1.0, 4, 1], [1, 6, -1], [2, -1, 2]])\n",
        "dolittle_decomp(a)\n",
        "print(a)"
      ],
      "execution_count": 0,
      "outputs": [
        {
          "output_type": "stream",
          "text": [
            "[[ 1.   4.   1. ]\n",
            " [ 1.   2.  -2. ]\n",
            " [ 2.  -4.5 -9. ]]\n"
          ],
          "name": "stdout"
        }
      ]
    },
    {
      "cell_type": "markdown",
      "metadata": {
        "id": "_IYlL-pB1Wv-",
        "colab_type": "text"
      },
      "source": [
        "#### Solution phase\n",
        "\n",
        "First we solve $\\textbf{Ly}=\\textbf{b}$ by forward substitution:\n",
        "$$\n",
        "y_1 = b_1 \\\\\n",
        "L_{21}y_1 + L_{22}y_2 = b_2 \\\\\n",
        "\\ldots\n",
        "L_{k1}y_1 + L_{k2}y_2 + \\ldots + L_{k,k-1}y_{k-1} + y_k = b_k \\\\\n",
        "\\ldots\n",
        "$$\n",
        "\n",
        "Thus:\n",
        "$$\n",
        "y_k = b_k - \\sum_{i=1}^{k-1}L_{k,i}y_i\n",
        "$$\n",
        "\n",
        "Implementation:"
      ]
    },
    {
      "cell_type": "code",
      "metadata": {
        "id": "2SHNlk1v1Wv_",
        "colab_type": "code",
        "colab": {}
      },
      "source": [
        "def dolittle_solution_forward(l, b):\n",
        "    for k in range(1, len(b)):\n",
        "        b[k] = b[k] - dot(l[k,0:k],b[0:k])\n",
        "    return b"
      ],
      "execution_count": 0,
      "outputs": []
    },
    {
      "cell_type": "markdown",
      "metadata": {
        "id": "gQ2DWc8t1WwB",
        "colab_type": "text"
      },
      "source": [
        "The back substitution phase for solving $\\textbf{Ux}=\\textbf{y}$ is identical to the one in the Gauss elimination method.\n",
        "\n",
        "#### Complete solver"
      ]
    },
    {
      "cell_type": "code",
      "metadata": {
        "id": "vNLPBLlf1WwE",
        "colab_type": "code",
        "colab": {}
      },
      "source": [
        "def dolittle_solver(a, b, verbose=False):\n",
        "    dolittle_decomp(a)\n",
        "    if verbose:\n",
        "        print(\"LU={}\".format(a))\n",
        "    y = dolittle_solution_forward(a, b)\n",
        "    if verbose:\n",
        "        print(\"y={}\".format(y))\n",
        "    return gauss_substitution(a, y)"
      ],
      "execution_count": 0,
      "outputs": []
    },
    {
      "cell_type": "markdown",
      "metadata": {
        "id": "YdhpztRH1WwL",
        "colab_type": "text"
      },
      "source": [
        "#### Exercise\n",
        "\n",
        "Use Dolittle's decomposition to solve $\\textbf{Ax}=\\textbf{b}$ where:\n",
        "$$\n",
        "\\textbf{A} = \\begin{bmatrix}\n",
        "1 & 4 & 1 \\\\\n",
        "1 & 6 & -1 \\\\\n",
        "2 & -1 & 2\n",
        "\\end{bmatrix}\n",
        "\\quad\n",
        "\\textbf{b} = \\begin{bmatrix}\n",
        "7 \\\\\n",
        "13 \\\\\n",
        "5\n",
        "\\end{bmatrix}\n",
        "$$"
      ]
    },
    {
      "cell_type": "code",
      "metadata": {
        "id": "Pt35TlyZ1WwO",
        "colab_type": "code",
        "colab": {},
        "outputId": "e14c27b3-b5cd-42f4-a17b-4823724c1985"
      },
      "source": [
        "from numpy import array\n",
        "a = array([[1.0, 4, 1], [1, 6, -1], [2, -1, 2]])\n",
        "b = array([7, 13, 5])\n",
        "dolittle_solver(a, b, True)"
      ],
      "execution_count": 0,
      "outputs": [
        {
          "output_type": "stream",
          "text": [
            "LU=[[ 1.   4.   1. ]\n",
            " [ 1.   2.  -2. ]\n",
            " [ 2.  -4.5 -9. ]]\n",
            "y=[ 7  6 18]\n"
          ],
          "name": "stdout"
        },
        {
          "output_type": "execute_result",
          "data": {
            "text/plain": [
              "array([ 5.,  1., -2.])"
            ]
          },
          "metadata": {
            "tags": []
          },
          "execution_count": 23
        }
      ]
    },
    {
      "cell_type": "code",
      "metadata": {
        "id": "DWGi04C_1WwT",
        "colab_type": "code",
        "colab": {},
        "outputId": "b4a932eb-e8c1-422a-de16-60fbd0c285a0"
      },
      "source": [
        "# and let's test our implementation\n",
        "from numpy.linalg import solve\n",
        "from numpy import array\n",
        "a = array([[1.0, 4, 1], [1, 6, -1], [2, -1, 2]])\n",
        "b = array([7, 13, 5])\n",
        "solve(a, b)"
      ],
      "execution_count": 0,
      "outputs": [
        {
          "output_type": "execute_result",
          "data": {
            "text/plain": [
              "array([ 5.,  1., -2.])"
            ]
          },
          "metadata": {
            "tags": []
          },
          "execution_count": 24
        }
      ]
    },
    {
      "cell_type": "markdown",
      "metadata": {
        "id": "O4-ds4En1WwX",
        "colab_type": "text"
      },
      "source": [
        "### Choleski's Decomposition Method\n",
        "\n",
        "Choleski's LU decomposition focuses on $\\underline{\\mathrm{symmetric,\\ definite,\\ positive}}$ matrices. It does $O\\left( \\frac{n^3}{6}\\right)$ multiplications or divisions. Compared to Gauss elimination, it reduces the number of operations by about half.\n",
        "\n",
        "The decomposition is in the following form:\n",
        "$$\n",
        "\\textbf{A}=\\textbf{L}\\textbf{L}^T\n",
        "$$\n",
        "which gives, for a $3 \\times 3$ matrix:\n",
        "$$\n",
        "\\begin{bmatrix}\n",
        "A_{11} & A_{12} & A_{13} \\\\\n",
        "A_{12} & A_{22} & A_{23} \\\\\n",
        "A_{13} & A_{23} & A_{33}\n",
        "\\end{bmatrix}\n",
        "= \\begin{bmatrix}\n",
        "L_{11} & 0 & 0 \\\\\n",
        "L_{12} & L_{22} & 0  \\\\\n",
        "L_{13} & L_{23} & L_{33}\n",
        "\\end{bmatrix}\n",
        "\\begin{bmatrix}\n",
        "L_{11} & L_{12} & L_{13} \\\\\n",
        "0      & L_{22} & L_{23} \\\\\n",
        "0      & 0 & L_{33}\n",
        "\\end{bmatrix}\n",
        "$$\n"
      ]
    },
    {
      "cell_type": "markdown",
      "metadata": {
        "id": "y7hv3ksG1WwY",
        "colab_type": "text"
      },
      "source": [
        "Thus:\n",
        "$$\n",
        "\\begin{bmatrix}\n",
        "A_{11} & A_{12} & A_{13} \\\\\n",
        "A_{12} & A_{22} & A_{23} \\\\\n",
        "A_{13} & A_{23} & A_{33}\n",
        "\\end{bmatrix}\n",
        "= \\begin{bmatrix}\n",
        "L_{11}^2 & L_{11}L_{12} & L_{11}L_{13} \\\\\n",
        "L_{12}L_{11}  & L_{12}^2 + L_{22}^2 & L_{12}L_{13} + L_{22}L_{23} \\\\\n",
        "L_{13}L_{11} & L_{13}L_{12} + L_{23}L_{22} & L_{13}^2 + L_{23}^2 + L_{33}^2\n",
        "\\end{bmatrix}\n",
        "$$\n"
      ]
    },
    {
      "cell_type": "markdown",
      "metadata": {
        "id": "VI3uorKN1WwZ",
        "colab_type": "text"
      },
      "source": [
        "And by identification in the first column:\n",
        "\n",
        "$$\n",
        "A_{11} = L_{11}^2 \\\\\n",
        "A_{12} = L_{11}L_{12}\\\\\n",
        "A_{13} = L_{11}L_{13}\n",
        "$$\n",
        "Thus:\n",
        "$$\n",
        "L_{11} = \\sqrt{A_{11}} \\\\\n",
        "L_{12} = \\frac{A_{12}}{L_{11}} \\\\\n",
        "L_{13} = \\frac{A_{13}}{L_{11}}\n",
        "$$\n"
      ]
    },
    {
      "cell_type": "markdown",
      "metadata": {
        "id": "m1gu8K461Wwa",
        "colab_type": "text"
      },
      "source": [
        "By identification of the second column:\n",
        "$$\n",
        "A_{22} = L_{12}^2 + L_{22}^2 \\\\\n",
        "A_{23} = L_{13}L_{12} + L_{23}L_{22}\n",
        "$$\n",
        "Thus:\n",
        "$$\n",
        "L_{22} = \\sqrt{A_{22} - L_{12}^2}\\\\\n",
        "L_{23} = \\frac{A_{23} - L_{13}L_{12}}{L_{22}}\n",
        "$$"
      ]
    },
    {
      "cell_type": "markdown",
      "metadata": {
        "id": "w47ftcuE1Wwb",
        "colab_type": "text"
      },
      "source": [
        "By identification of the last column:\n",
        "$$\n",
        "A_{33} = L_{13}^2 + L_{23}^2 + L_{33}^2\n",
        "$$\n",
        "Thus:\n",
        "$$\n",
        "L_{33} = \\sqrt{A_{33}-L_{13}^2-L_{23}^2}\n",
        "$$"
      ]
    },
    {
      "cell_type": "markdown",
      "metadata": {
        "id": "82MIILma1Wwc",
        "colab_type": "text"
      },
      "source": [
        "Likewise, for matrices of size $n \\times n$, the solution is:\n",
        "$$\n",
        "L_{ii} = \\sqrt{A_{ii}-\\sum_{j=1}^{i-1}{L_{ji}^2}}, \\quad \\forall i \\in |[2, n]|\n",
        "$$\n",
        "with:\n",
        "$$\n",
        "L_{11} = \\sqrt{A_{11}}\n",
        "$$"
      ]
    },
    {
      "cell_type": "markdown",
      "metadata": {
        "id": "TqEPPYwp1Wwd",
        "colab_type": "text"
      },
      "source": [
        "And for a non-diagonal term:\n",
        "\n",
        "$$\n",
        "L_{ij} = \\frac{A_{ij}-\\sum_{k=1}^{j-1}{L_{ik}L_{jk}}}{L_{jj}},\\quad \\forall j \\in |[2, n-1|] \\quad \\mathrm{and} \\quad \\forall i \\in |[j+1, n]|\n",
        "$$"
      ]
    },
    {
      "cell_type": "markdown",
      "metadata": {
        "id": "6H0FxQaI1Wwg",
        "colab_type": "text"
      },
      "source": [
        "#### Example (2.6 in the Textbook)\n",
        "\n",
        "Compute the Cholesky decomposition of:\n",
        "$$\n",
        "A = \\begin{bmatrix}\n",
        "4 & -2 & 2 \\\\\n",
        "-2 & 2 & -4 \\\\\n",
        "2 & -4 & 11\n",
        "\\end{bmatrix}\n",
        "$$"
      ]
    },
    {
      "cell_type": "code",
      "metadata": {
        "id": "_HEZyXVe1Wwh",
        "colab_type": "code",
        "colab": {},
        "outputId": "25dda616-7904-484f-f9f3-de6d86d181a4"
      },
      "source": [
        "# You should be able to do the decomposition on paper (shown in class)\n",
        "# with numpy:\n",
        "from numpy.linalg import cholesky\n",
        "a = array([[4, -2, 2], [-2, 2, -4], [2, -4, 11]])\n",
        "cholesky(a)"
      ],
      "execution_count": 0,
      "outputs": [
        {
          "output_type": "execute_result",
          "data": {
            "text/plain": [
              "array([[ 2.,  0.,  0.],\n",
              "       [-1.,  1.,  0.],\n",
              "       [ 1., -3.,  1.]])"
            ]
          },
          "metadata": {
            "tags": []
          },
          "execution_count": 25
        }
      ]
    },
    {
      "cell_type": "markdown",
      "metadata": {
        "id": "ooLd_0Qr1Wwn",
        "colab_type": "text"
      },
      "source": [
        "## 2.4 Symmetric and Banded Coefficient Matrices\n",
        "\n",
        "A matrix is said to be $\\underline{\\mathrm{banded}}$ when all its non-zero coefficients are clustered around its diagonal, for instance (X are the non-zero elements):\n",
        "$$\n",
        "\\textbf{A} = \\begin{bmatrix}\n",
        "X & X & 0 & 0 & 0 \\\\\n",
        "X & X & X & 0 & 0 \\\\\n",
        "0 & X & X & X & 0 \\\\\n",
        "0 & 0 & X & X & X \\\\\n",
        "0 & 0 & 0 & X & X\n",
        "\\end{bmatrix}\n",
        "$$"
      ]
    },
    {
      "cell_type": "markdown",
      "metadata": {
        "id": "F907kIkq1Wwo",
        "colab_type": "text"
      },
      "source": [
        "If a banded matrix is decomposed in the form $\\textbf{A}=\\textbf{LU}$ then $\\textbf{L}$ and $\\textbf{U}$ preserve the banded structure. For instance, the matrix $\\textbf{A}$ above would be decomposed as follows:\n",
        "$$\n",
        "\\textbf{L} = \\begin{bmatrix}\n",
        "X & 0 & 0 & 0 & 0 \\\\\n",
        "X & X & 0 & 0 & 0 \\\\\n",
        "0 & X & X & 0 & 0 \\\\\n",
        "0 & 0 & X & X & 0 \\\\\n",
        "0 & 0 & 0 & X & X\n",
        "\\end{bmatrix}\n",
        "\\quad\n",
        "\\textbf{U} = \\begin{bmatrix}\n",
        "X & X & 0 & 0 & 0 \\\\\n",
        "0 & X & X & 0 & 0 \\\\\n",
        "0 & 0 & X & X & 0 \\\\\n",
        "0 & 0 & 0 & X & X \\\\\n",
        "0 & 0 & 0 & 0 & X\n",
        "\\end{bmatrix}\n",
        "$$\n"
      ]
    },
    {
      "cell_type": "markdown",
      "metadata": {
        "id": "7yH3rlYy1Wwp",
        "colab_type": "text"
      },
      "source": [
        "### Tridiagnoal Coefficient Matrix\n",
        "\n",
        "Memory can be saved by storing only the non-zero elements of banded matrices.\n",
        "\n",
        "Consider the $n \\times n$ tridiagonal matrix $\\textbf{A}$ noted as follows:\n",
        "$$\n",
        "\\textbf{A} = \\begin{bmatrix}\n",
        "d_1 & e_1 & 0 & 0 & \\ldots & 0 \\\\\n",
        "c_1 & d_2 & e_2 & 0 & \\ldots & 0 \\\\\n",
        "0 & c_2 & d_3 & e_3 & \\ldots & 0 \\\\\n",
        "0 & 0 & c_3 & d_4 & \\ldots & 0 \\\\\n",
        "\\ldots \\\\\n",
        "0 & 0 & \\ldots & 0 & c_{n-1} & d_n\n",
        "\\end{bmatrix}\n",
        "$$"
      ]
    },
    {
      "cell_type": "markdown",
      "metadata": {
        "id": "mrOmewE21Wwq",
        "colab_type": "text"
      },
      "source": [
        "The elements of $\\textbf{A}$ are stored in three vectors $\\textbf{a}$, $\\textbf{b}$ and $\\textbf{c}$, which significantly saves on memory."
      ]
    },
    {
      "cell_type": "markdown",
      "metadata": {
        "id": "TwIEyjvI1Wwr",
        "colab_type": "text"
      },
      "source": [
        "Let us now apply Dolittle's LU decomposition. We eliminate $c_{k-1}$ from row $k$ as follows:\n",
        "$$\n",
        "row\\ k \\leftarrow row\\ k - (c_{k-1}/d_{k-1}) \\times row(k-1), \\quad \\forall k \\in |[2, n]|\n",
        "$$\n",
        "\n",
        "$e_k$ is not affected while $d_k$ is modified as follows:\n",
        "$$\n",
        "d_k \\leftarrow d_k - (c_{k-1}/d_{k-1})e_{k-1}\n",
        "$$\n",
        "\n",
        "To finish Doolitle's decomposition of the form [$\\textbf{L}\\backslash\\textbf{U}$], we store the multiplier \n",
        "$\\lambda_k=c_{k-1}/d_{k-1}$ in the location of $c_{k-1}$:\n",
        "$$\n",
        "c_{k-1} \\leftarrow c_{k-1}/d_{k-1}\n",
        "$$\n",
        "\n",
        "The decomposition algorithm is implemented as follows:"
      ]
    },
    {
      "cell_type": "code",
      "metadata": {
        "id": "NcGZ5F-u1Wwt",
        "colab_type": "code",
        "colab": {}
      },
      "source": [
        "def tridiag_decomp(c, d, e):\n",
        "    assert(len(c) == len(d) == len(e))\n",
        "    n = len(c)\n",
        "    for k in range(1, n):\n",
        "        lambd = c[k-1]/d[k-1]\n",
        "        d[k] -= lambd*e[k-1]\n",
        "        c[k-1] = lambd"
      ],
      "execution_count": 0,
      "outputs": []
    },
    {
      "cell_type": "markdown",
      "metadata": {
        "id": "NGfWQ-9f1Ww4",
        "colab_type": "text"
      },
      "source": [
        "Decomposition phase is now in O(n)!"
      ]
    },
    {
      "cell_type": "markdown",
      "metadata": {
        "id": "HmyUoYWI1Ww5",
        "colab_type": "text"
      },
      "source": [
        "### Solution phase\n",
        "\n",
        "We start by solving $\\textbf{Ly}=\\textbf{b}$:\n",
        "\n",
        "$$\n",
        "\\left[ \\textbf{L} | \\textbf{b} \\right] = \\left[ \\begin{array}{cccccc|c}\n",
        "1 & 0 & 0 & 0 & \\ldots & 0 & b_1 \\\\\n",
        "c_1 & 1 & 0 & 0 & \\ldots & 0 & b_2 \\\\\n",
        "0 & c_2 & 1 & 0 & \\ldots & 0 & b_3 \\\\\n",
        "0 & 0 & c_3 & 1 & \\ldots & 0 & b_4 \\\\\n",
        "\\ldots \\\\\n",
        "0 & 0 & \\ldots & 0 & c_{n-1} & 1 & b_n\n",
        "\\end{array}\n",
        "\\right]\n",
        "$$\n",
        "Note that $c_i$ represents the multipliers computed during the decomposition, not the original coefficients in $\\textbf{A}$."
      ]
    },
    {
      "cell_type": "markdown",
      "metadata": {
        "id": "VNRHeJVi1Ww6",
        "colab_type": "text"
      },
      "source": [
        "We have:\n",
        "$$\n",
        "y_1 = b_1\\\\\n",
        "\\forall i \\in |[2, n|], \\quad y_i = b_i - c_{i-1}y_{i-1}\n",
        "$$"
      ]
    },
    {
      "cell_type": "markdown",
      "metadata": {
        "id": "26I85EB41Ww7",
        "colab_type": "text"
      },
      "source": [
        "We now solve $\\textbf{Ux}=\\textbf{y}$:\n",
        "\n",
        "$$\n",
        "\\left[ \\textbf{U} | \\textbf{y} \\right] = \\left[ \\begin{array}{cccccc|c}\n",
        "d_1 & e_1 & 0 & 0 & \\ldots & 0 & y_1 \\\\\n",
        "0 & d_2 & e_2 & 0 & \\ldots & 0 & y_2 \\\\\n",
        "0 & 0 & d_3 & e_3 & \\ldots & 0 & y_3 \\\\\n",
        "\\ldots \\\\\n",
        "0 & 0 & \\ldots & 0 & d_{n-1} & e_{n-1} & y_{n-1}\\\\\n",
        "0 & 0 & \\ldots & 0 & 0 & d_{n} & y_n\n",
        "\\end{array}\n",
        "\\right]\n",
        "$$\n",
        "\n",
        "which gives, by backsubstitution:"
      ]
    },
    {
      "cell_type": "markdown",
      "metadata": {
        "id": "YxO4W7rm1Ww9",
        "colab_type": "text"
      },
      "source": [
        "$$\n",
        "x_n = \\frac{y_n}{d_n} \\\\\n",
        "\\forall i \\in |[1, n-1]|, \\quad x_i = \\frac{y_{i} - e_ix_{i+1}}{d_i}\n",
        "$$\n",
        "\n"
      ]
    },
    {
      "cell_type": "markdown",
      "metadata": {
        "id": "uYAnIMCH1Ww_",
        "colab_type": "text"
      },
      "source": [
        "### Implementation"
      ]
    },
    {
      "cell_type": "code",
      "metadata": {
        "id": "ds7NYgDy1WxA",
        "colab_type": "code",
        "colab": {}
      },
      "source": [
        "from numpy import zeros\n",
        "def tridiag_solve(c, d, e, b): # watch out, input has to be in LU form!\n",
        "    assert(len(c) == len(d) == len(e) == len(b))\n",
        "    n = len(c)\n",
        "    # forward substitution\n",
        "    for i in range(1, n):\n",
        "        b[i] = b[i]-c[i-1]*b[i-1] # Here we use b to store y\n",
        "    # back substitution\n",
        "    b[n-1] = b[n-1]/d[n-1] # Here we use b to store x\n",
        "    for i in range (n-2, -1, -1):\n",
        "        b[i] = (b[i]-e[i]*b[i+1])/d[i]"
      ],
      "execution_count": 0,
      "outputs": []
    },
    {
      "cell_type": "markdown",
      "metadata": {
        "id": "MZdHhNTq1WxG",
        "colab_type": "text"
      },
      "source": [
        "Solution phase is in O(n) too!"
      ]
    },
    {
      "cell_type": "code",
      "metadata": {
        "id": "MIMeEGWt1WxI",
        "colab_type": "code",
        "colab": {}
      },
      "source": [
        "def tridiag_solver(c, d, e, b): # complete solver for tridiagonal systems\n",
        "    tridiag_decomp(c, d, e)\n",
        "    tridiag_solve(c, d, e, b)"
      ],
      "execution_count": 0,
      "outputs": []
    },
    {
      "cell_type": "code",
      "metadata": {
        "id": "1fCQ4KkZ1WxN",
        "colab_type": "code",
        "colab": {},
        "outputId": "90c99381-9e73-4ad8-e18c-2c77621e309d"
      },
      "source": [
        "import numpy as np\n",
        "a = np.array([[1, 1, 0, 0, 0], [1, 2, 1, 0, 0], [0, 1, 3, 1, 0], [0, 0, 1, 4, 1], [0, 0, 0, 1, 5]])\n",
        "c = np.array([1, 1, 1, 1, 0], dtype=np.float_)\n",
        "d = np.array([1, 2, 3, 4, 5], dtype=np.float_)\n",
        "e = np.array([1, 1, 1, 1, 0], dtype=np.float_)\n",
        "b = np.array([1, 2, 3, 4, 5], dtype=np.float_)\n",
        "tridiag_solver(c, d, e, b)\n",
        "print(\"Our result:\", b)\n",
        "\n",
        "from numpy.linalg import solve\n",
        "b = array([1, 2, 3, 4, 5], dtype=np.float_) # watch out, b is modified by our solver!\n",
        "x = solve(a, b)\n",
        "print(\"Numpy's result:\", x)\n"
      ],
      "execution_count": 0,
      "outputs": [
        {
          "output_type": "stream",
          "text": [
            "Our result: [0.6969697  0.3030303  0.6969697  0.60606061 0.87878788]\n",
            "Numpy's result: [0.6969697  0.3030303  0.6969697  0.60606061 0.87878788]\n"
          ],
          "name": "stdout"
        }
      ]
    },
    {
      "cell_type": "markdown",
      "metadata": {
        "id": "NLnEmkhh1WxR",
        "colab_type": "text"
      },
      "source": [
        "## 2.5 Pivoting\n",
        "\n"
      ]
    },
    {
      "cell_type": "markdown",
      "metadata": {
        "id": "INT65L141WxS",
        "colab_type": "text"
      },
      "source": [
        "Any idea what is going wong below? \n",
        "\n",
        "Let's define the following system:"
      ]
    },
    {
      "cell_type": "code",
      "metadata": {
        "id": "sVeGEF9I1WxT",
        "colab_type": "code",
        "colab": {},
        "outputId": "620fe731-1b83-40f3-d312-67fdca0ba625"
      },
      "source": [
        "import numpy as np\n",
        "a = array([[2, -1, 0], [-1, 2, -1], [0, -1, 1]], dtype=np.float_)\n",
        "b = array([1, 0, 0], dtype=np.float_)\n",
        "print(a)\n",
        "print(b)"
      ],
      "execution_count": 0,
      "outputs": [
        {
          "output_type": "stream",
          "text": [
            "[[ 2. -1.  0.]\n",
            " [-1.  2. -1.]\n",
            " [ 0. -1.  1.]]\n",
            "[1. 0. 0.]\n"
          ],
          "name": "stdout"
        }
      ]
    },
    {
      "cell_type": "markdown",
      "metadata": {
        "id": "2owz7kMX1WxZ",
        "colab_type": "text"
      },
      "source": [
        "Let's solve it using our `gauss` function:"
      ]
    },
    {
      "cell_type": "code",
      "metadata": {
        "id": "lQzTGgVp1Wxa",
        "colab_type": "code",
        "colab": {},
        "outputId": "97406656-6562-4ef4-e4b4-b8b88b9815ba"
      },
      "source": [
        "x = gauss(a, b)\n",
        "print(x)"
      ],
      "execution_count": 0,
      "outputs": [
        {
          "output_type": "stream",
          "text": [
            "[1. 1. 1.]\n"
          ],
          "name": "stdout"
        }
      ]
    },
    {
      "cell_type": "markdown",
      "metadata": {
        "id": "CGGKkc0v1Wxd",
        "colab_type": "text"
      },
      "source": [
        "Let's check that it is the correct answer:"
      ]
    },
    {
      "cell_type": "code",
      "metadata": {
        "id": "0nYUQomo1Wxe",
        "colab_type": "code",
        "colab": {},
        "outputId": "0b0d4770-f857-4c76-c0b0-037b73dafe11"
      },
      "source": [
        "import numpy as np\n",
        "a = array([[2, -1, 0], [-1, 2, -1], [0, -1, 1]], dtype=np.float_)\n",
        "b = array([1, 0, 0], dtype=np.float_)\n",
        "x = np.linalg.solve(a, b)\n",
        "print(x)"
      ],
      "execution_count": 0,
      "outputs": [
        {
          "output_type": "stream",
          "text": [
            "[1. 1. 1.]\n"
          ],
          "name": "stdout"
        }
      ]
    },
    {
      "cell_type": "markdown",
      "metadata": {
        "id": "bnXL28Y51Wxj",
        "colab_type": "text"
      },
      "source": [
        "Now let's swap  rows 1 and 3 of the system:"
      ]
    },
    {
      "cell_type": "code",
      "metadata": {
        "id": "CdEBsK7V1Wxk",
        "colab_type": "code",
        "colab": {},
        "outputId": "941b4f23-50cf-4071-a34d-f67857815ba9"
      },
      "source": [
        "import numpy as np\n",
        "a = array([[0, -1, 1], [-1, 2, -1],  [2, -1, 0]], dtype=np.float_)\n",
        "b = array([0, 0, 1], dtype=np.float_)\n",
        "print(a)\n",
        "print(b)"
      ],
      "execution_count": 0,
      "outputs": [
        {
          "output_type": "stream",
          "text": [
            "[[ 0. -1.  1.]\n",
            " [-1.  2. -1.]\n",
            " [ 2. -1.  0.]]\n",
            "[0. 0. 1.]\n"
          ],
          "name": "stdout"
        }
      ]
    },
    {
      "cell_type": "markdown",
      "metadata": {
        "id": "nQQHbDmD1Wxq",
        "colab_type": "text"
      },
      "source": [
        "The solution remains the same:"
      ]
    },
    {
      "cell_type": "code",
      "metadata": {
        "id": "JHe3xs_F1Wxs",
        "colab_type": "code",
        "colab": {},
        "outputId": "a9155f67-e7f0-4bdf-ab1e-c26925243570"
      },
      "source": [
        "import numpy as np\n",
        "x = np.linalg.solve(a, b)\n",
        "print(x)"
      ],
      "execution_count": 0,
      "outputs": [
        {
          "output_type": "stream",
          "text": [
            "[1. 1. 1.]\n"
          ],
          "name": "stdout"
        }
      ]
    },
    {
      "cell_type": "markdown",
      "metadata": {
        "id": "FfcmsBDD1Wxv",
        "colab_type": "text"
      },
      "source": [
        "But with our implementation, woops!"
      ]
    },
    {
      "cell_type": "code",
      "metadata": {
        "id": "hWgVgzdv1Wxw",
        "colab_type": "code",
        "colab": {},
        "outputId": "ac7b144a-e8ae-428f-ad81-8628c1aae23b"
      },
      "source": [
        "x = gauss(a, b)\n",
        "print(x)"
      ],
      "execution_count": 0,
      "outputs": [
        {
          "output_type": "error",
          "ename": "AssertionError",
          "evalue": "",
          "traceback": [
            "\u001b[0;31m---------------------------------------------------------------------------\u001b[0m",
            "\u001b[0;31mAssertionError\u001b[0m                            Traceback (most recent call last)",
            "\u001b[0;32m<ipython-input-35-4ab833d44056>\u001b[0m in \u001b[0;36m<module>\u001b[0;34m\u001b[0m\n\u001b[0;32m----> 1\u001b[0;31m \u001b[0mx\u001b[0m \u001b[0;34m=\u001b[0m \u001b[0mgauss\u001b[0m\u001b[0;34m(\u001b[0m\u001b[0ma\u001b[0m\u001b[0;34m,\u001b[0m \u001b[0mb\u001b[0m\u001b[0;34m)\u001b[0m\u001b[0;34m\u001b[0m\u001b[0;34m\u001b[0m\u001b[0m\n\u001b[0m\u001b[1;32m      2\u001b[0m \u001b[0mprint\u001b[0m\u001b[0;34m(\u001b[0m\u001b[0mx\u001b[0m\u001b[0;34m)\u001b[0m\u001b[0;34m\u001b[0m\u001b[0;34m\u001b[0m\u001b[0m\n",
            "\u001b[0;32m<ipython-input-17-5b1104e7ef26>\u001b[0m in \u001b[0;36mgauss\u001b[0;34m(a, b)\u001b[0m\n\u001b[1;32m      1\u001b[0m \u001b[0;32mdef\u001b[0m \u001b[0mgauss\u001b[0m\u001b[0;34m(\u001b[0m\u001b[0ma\u001b[0m\u001b[0;34m,\u001b[0m \u001b[0mb\u001b[0m\u001b[0;34m)\u001b[0m\u001b[0;34m:\u001b[0m\u001b[0;34m\u001b[0m\u001b[0;34m\u001b[0m\u001b[0m\n\u001b[0;32m----> 2\u001b[0;31m     \u001b[0mgauss_elimination\u001b[0m\u001b[0;34m(\u001b[0m\u001b[0ma\u001b[0m\u001b[0;34m,\u001b[0m \u001b[0mb\u001b[0m\u001b[0;34m)\u001b[0m\u001b[0;34m\u001b[0m\u001b[0;34m\u001b[0m\u001b[0m\n\u001b[0m\u001b[1;32m      3\u001b[0m     \u001b[0;32mreturn\u001b[0m \u001b[0mgauss_substitution\u001b[0m\u001b[0;34m(\u001b[0m\u001b[0ma\u001b[0m\u001b[0;34m,\u001b[0m \u001b[0mb\u001b[0m\u001b[0;34m)\u001b[0m\u001b[0;34m\u001b[0m\u001b[0;34m\u001b[0m\u001b[0m\n",
            "\u001b[0;32m<ipython-input-12-c6a4cec2997a>\u001b[0m in \u001b[0;36mgauss_elimination\u001b[0;34m(a, b, verbose)\u001b[0m\n\u001b[1;32m      6\u001b[0m     \u001b[0;32mfor\u001b[0m \u001b[0mk\u001b[0m \u001b[0;32min\u001b[0m \u001b[0mrange\u001b[0m\u001b[0;34m(\u001b[0m\u001b[0mn\u001b[0m\u001b[0;34m-\u001b[0m\u001b[0;36m1\u001b[0m\u001b[0;34m)\u001b[0m\u001b[0;34m:\u001b[0m\u001b[0;34m\u001b[0m\u001b[0;34m\u001b[0m\u001b[0m\n\u001b[1;32m      7\u001b[0m         \u001b[0;32mfor\u001b[0m \u001b[0mi\u001b[0m \u001b[0;32min\u001b[0m \u001b[0mrange\u001b[0m\u001b[0;34m(\u001b[0m\u001b[0mk\u001b[0m\u001b[0;34m+\u001b[0m\u001b[0;36m1\u001b[0m\u001b[0;34m,\u001b[0m \u001b[0mn\u001b[0m\u001b[0;34m)\u001b[0m\u001b[0;34m:\u001b[0m\u001b[0;34m\u001b[0m\u001b[0;34m\u001b[0m\u001b[0m\n\u001b[0;32m----> 8\u001b[0;31m             \u001b[0;32massert\u001b[0m\u001b[0;34m(\u001b[0m\u001b[0ma\u001b[0m\u001b[0;34m[\u001b[0m\u001b[0mk\u001b[0m\u001b[0;34m,\u001b[0m\u001b[0mk\u001b[0m\u001b[0;34m]\u001b[0m \u001b[0;34m!=\u001b[0m \u001b[0;36m0\u001b[0m\u001b[0;34m)\u001b[0m \u001b[0;31m# woops, what happens in this case? we'll talk about it later!\u001b[0m\u001b[0;34m\u001b[0m\u001b[0;34m\u001b[0m\u001b[0m\n\u001b[0m\u001b[1;32m      9\u001b[0m             \u001b[0;32mif\u001b[0m \u001b[0;34m(\u001b[0m\u001b[0ma\u001b[0m\u001b[0;34m[\u001b[0m\u001b[0mi\u001b[0m\u001b[0;34m,\u001b[0m\u001b[0mk\u001b[0m\u001b[0;34m]\u001b[0m \u001b[0;34m!=\u001b[0m \u001b[0;36m0\u001b[0m\u001b[0;34m)\u001b[0m\u001b[0;34m:\u001b[0m \u001b[0;31m# no need to do anything when lambda is 0\u001b[0m\u001b[0;34m\u001b[0m\u001b[0;34m\u001b[0m\u001b[0m\n\u001b[1;32m     10\u001b[0m                 \u001b[0mlmbda\u001b[0m \u001b[0;34m=\u001b[0m \u001b[0ma\u001b[0m\u001b[0;34m[\u001b[0m\u001b[0mi\u001b[0m\u001b[0;34m,\u001b[0m\u001b[0mk\u001b[0m\u001b[0;34m]\u001b[0m\u001b[0;34m/\u001b[0m\u001b[0ma\u001b[0m\u001b[0;34m[\u001b[0m\u001b[0mk\u001b[0m\u001b[0;34m,\u001b[0m\u001b[0mk\u001b[0m\u001b[0;34m]\u001b[0m \u001b[0;31m# lambda is a reserved keyword in Python\u001b[0m\u001b[0;34m\u001b[0m\u001b[0;34m\u001b[0m\u001b[0m\n",
            "\u001b[0;31mAssertionError\u001b[0m: "
          ]
        }
      ]
    },
    {
      "cell_type": "markdown",
      "metadata": {
        "id": "hF3aRd6d1Wxz",
        "colab_type": "text"
      },
      "source": [
        "Issue: we don't want zeros, or elements with a very small absolute value, on the diagonal (small elements would be detrimental to numerical accuracy).\n",
        "\n",
        "To address this issue, we will swap rows in $\\textbf{A}$: this is called $\\underline{\\mathrm{pivoting}}$.\n",
        "\n",
        "### Diagonal dominance\n",
        "\n",
        "An $n \\times n$ matrix is $\\underline{\\mathrm{diagonal\\ dominant}}$ if:\n",
        "$$\n",
        "\\forall i \\in |[1, n]|, \\quad |A_{ii}| > \\sum_{j \\neq i}|A_{ij}|\n",
        "$$\n",
        "\n",
        "It can be shown that if $\\textbf{A}$ is diagonal dominant, then the solution of $\\textbf{Ax}=\\textbf{b}$ does not benefit from row pivoting."
      ]
    },
    {
      "cell_type": "markdown",
      "metadata": {
        "id": "Ohass2-F1Wx1",
        "colab_type": "text"
      },
      "source": [
        "### Gauss Elimination with scale row pivoting\n",
        "\n",
        "Let's define a vector $\\textbf{s}$ such that:\n",
        "$$\n",
        "\\forall i \\in |[1, n]|, \\quad s_i = \\max_j{|A_{ij}|}\n",
        "$$\n",
        "\n",
        "And let's define the relative size of an element $A_{ij}$ as follows:\n",
        "$$\n",
        "r_{ij} = \\frac{|A_{ij}|}{s_i}\n",
        "$$\n",
        "\n"
      ]
    },
    {
      "cell_type": "markdown",
      "metadata": {
        "id": "snQoCGMa1Wx2",
        "colab_type": "text"
      },
      "source": [
        "Before starting iteration $k-1$ of the Gauss elimination process, the linear system is defined as follows:\n",
        "$$\n",
        "\\left[\n",
        "\\begin{array}{ccccccccc|c}\n",
        "A_{11} & A_{12} & A_{13} & \\ldots & A_{1k} & \\ldots & A_{1j} & \\ldots & A_{1n} & b_1 \\\\\n",
        "0      & A_{22} & A_{23} & \\ldots & A_{2k} & \\ldots & A_{2j} & \\ldots & A_{2n} & b_2 \\\\\n",
        "0      & 0      & A_{33} & \\ldots & A_{3k} & \\ldots & A_{3j} & \\ldots & A_{3n} & b_3 \\\\\n",
        "\\ldots \\\\\n",
        "\\hline\\\\\n",
        "0      & 0      & 0 & \\ldots & A_{kk} & \\ldots & A_{kj} & \\ldots & A_{kn} & b_k \\\\\n",
        "\\ldots \\\\\n",
        "0      & 0      & 0 & \\ldots & A_{ik} & \\ldots & A_{ij} & \\ldots & A_{in} & b_i \\\\\n",
        "\\ldots \\\\\n",
        "0      & 0      & 0 & \\ldots & A_{nk} & \\ldots & A_{nj} & \\ldots & A_{nn} & b_n\n",
        "\\end{array}\n",
        "\\right]\n",
        "$$\n",
        "\n",
        "Instead of choosing $A_{kk}$ as the pivot, we will choose the row with the largest $r_{ik}$, that is, we choose row $p$ such that:\n",
        "$$\n",
        "r_{pk} = \\max_{i \\geq k}(r_{ik})\n",
        "$$\n",
        "If we find such an element, we exchange rows $k$ and $p$ in $\\textbf{A}$ and in $\\textbf{s}$.\n",
        "\n"
      ]
    },
    {
      "cell_type": "markdown",
      "metadata": {
        "id": "8umLhm711Wx4",
        "colab_type": "text"
      },
      "source": [
        "Let's write a function to swap rows of a matrix:"
      ]
    },
    {
      "cell_type": "code",
      "metadata": {
        "id": "xJCQaO1L1Wx5",
        "colab_type": "code",
        "colab": {}
      },
      "source": [
        "from numpy import shape\n",
        "def swap(a, i, j):\n",
        "    if len(shape(a)) == 1:\n",
        "        a[i],a[j] = a[j],a[i] # unpacking\n",
        "    else:\n",
        "        a[[i, j], :] = a[[j, i], :]"
      ],
      "execution_count": 0,
      "outputs": []
    },
    {
      "cell_type": "markdown",
      "metadata": {
        "id": "qsh1BIKe1Wx8",
        "colab_type": "text"
      },
      "source": [
        "And let's use it to rewrite the Gauss elimination function:"
      ]
    },
    {
      "cell_type": "code",
      "metadata": {
        "id": "wzc9lbpK1Wx9",
        "colab_type": "code",
        "colab": {}
      },
      "source": [
        "from numpy import shape, argmax\n",
        "def gauss_elimination_pivot(a, b, verbose=False):\n",
        "    n, m = shape(a)\n",
        "    n2,  = shape(b)\n",
        "    assert(n==n2)\n",
        "    # New in pivot version\n",
        "    s = zeros(n)\n",
        "    for i in range(n):\n",
        "        s[i] = max(abs(a[i, :]))\n",
        "    for k in range(n-1):\n",
        "        # New in pivot version\n",
        "        p = argmax(abs(a[k:,k])/s[k:]) + k\n",
        "        swap(a, p, k)\n",
        "        swap(b, p, k)\n",
        "        swap(s, p, k)\n",
        "        # The remainder remains as in the previous version\n",
        "        for i in range(k+1, n):\n",
        "            assert(a[k,k] != 0) # this shouldn't happen now, unless the matrix is singular\n",
        "            if (a[i,k] != 0): # no need to do anything when lambda is 0\n",
        "                lmbda = a[i,k]/a[k,k] # lambda is a reserved keyword in Python\n",
        "                a[i, k:n] = a[i, k:n] - lmbda*a[k, k:n] # list slice operations\n",
        "                b[i] = b[i] - lmbda*b[k]\n",
        "            if verbose:\n",
        "                print(a, b)"
      ],
      "execution_count": 0,
      "outputs": []
    },
    {
      "cell_type": "code",
      "metadata": {
        "id": "Q6wG9KCK1WyB",
        "colab_type": "code",
        "colab": {}
      },
      "source": [
        "def gauss_pivot(a, b):\n",
        "    gauss_elimination_pivot(a, b)\n",
        "    return gauss_substitution(a, b) # as in the previous version"
      ],
      "execution_count": 0,
      "outputs": []
    },
    {
      "cell_type": "code",
      "metadata": {
        "id": "nSi-FeCc1WyL",
        "colab_type": "code",
        "colab": {},
        "outputId": "48f2c890-a53f-40c4-fe32-dc7e1026617b"
      },
      "source": [
        "import numpy as np\n",
        "a = array([[0, -1, 1], [-1, 2, -1],  [2, -1, 0]], dtype=np.float_)\n",
        "b = array([0, 0, 1], dtype=np.float_)\n",
        "try:\n",
        "    x = gauss(a, b)\n",
        "except AssertionError as e:\n",
        "    print(\"Version without pivot crashes as expected\")\n",
        "a = array([[0, -1, 1], [-1, 2, -1],  [2, -1, 0]], dtype=np.float_)\n",
        "b = array([0, 0, 1], dtype=np.float_)\n",
        "x = gauss_pivot(a, b)\n",
        "print(\"Solution with scaled pivoting: \", x)"
      ],
      "execution_count": 0,
      "outputs": [
        {
          "output_type": "stream",
          "text": [
            "Version without pivot crashes as expected\n",
            "Solution with scaled pivoting:  [1. 1. 1.]\n"
          ],
          "name": "stdout"
        }
      ]
    },
    {
      "cell_type": "markdown",
      "metadata": {
        "id": "7wkKZjMs1WyO",
        "colab_type": "text"
      },
      "source": [
        "#### When to pivot\n",
        "\n",
        "Drawbacks of pivoting:\n",
        "* Increased computation cost\n",
        "* Destruction of symmetry and banded structure\n",
        "\n",
        "There is no absolute rule to determine when pivoting should be used. Rules of thumb:\n",
        "Don't pivot when matrix is:\n",
        "* Banded\n",
        "* Positive definite\n",
        "* Symmetric"
      ]
    },
    {
      "cell_type": "markdown",
      "metadata": {
        "id": "EN1COfDD1WyO",
        "colab_type": "text"
      },
      "source": [
        "## 2.6 Matrix inversion\n",
        "\n",
        "The inverse of an $n \\times n$ matrix $\\textbf{A}$ can be computed by solving the linear equations defined by:\n",
        "$$\n",
        "\\textbf{AX}=\\textbf{I}\n",
        "$$\n",
        "where $\\textbf{I}$ is the $n \\times n$ identity matrix. \n",
        "\n",
        "Warning:\n",
        "* This is a compute-intensive task!\n",
        "* If $\\textbf{A}$ is banded, $\\textbf{A}^{-1}$ is not banded in genral."
      ]
    }
  ]
}