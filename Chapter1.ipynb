{
  "nbformat": 4,
  "nbformat_minor": 0,
  "metadata": {
    "celltoolbar": "Slideshow",
    "kernelspec": {
      "display_name": "Python 3",
      "language": "python",
      "name": "python3"
    },
    "language_info": {
      "codemirror_mode": {
        "name": "ipython",
        "version": 3
      },
      "file_extension": ".py",
      "mimetype": "text/x-python",
      "name": "python",
      "nbconvert_exporter": "python",
      "pygments_lexer": "ipython3",
      "version": "3.7.3"
    },
    "colab": {
      "name": "Chapter1.ipynb",
      "provenance": []
    }
  },
  "cells": [
    {
      "cell_type": "markdown",
      "metadata": {
        "id": "fxqoH4a51WXD",
        "colab_type": "text"
      },
      "source": [
        "# Chapter 1: Introduction to Python\n",
        "\n",
        "The goal of this chapter is to provide the required Python programming skills to implement the algorithms presented in the course. We will come back to it at the beginning of every lecture, whenever new concepts are needed.\n",
        "\n",
        "## Motivations for Python\n",
        "\n",
        "* Python is very popular in science and engineering: check [SciPy](https://scipy.org), [scikit-learn](http://scikit-learn.org)\n",
        "* Python is free software ([as in freedom](https://www.fsf.org))\n",
        "* Python is portable, available for all major operating systems\n",
        "* Python is a versatile language, \"the second best language for everything\"\n",
        "* Python has a lively online community, active on [Stackoverflow](https://stackoverflow.com) and many other forums\n"
      ]
    },
    {
      "cell_type": "markdown",
      "metadata": {
        "id": "rwBd1Qf11WXK",
        "colab_type": "text"
      },
      "source": [
        "## Limitations relevant to this course\n",
        "* Can be slower than Matlab in some cases\n",
        "\n",
        "## Other notes\n",
        "* Python is an object-oriented language\n",
        "* Python is an interpreted language\n",
        "\n",
        "Here we focus on Python 3 (latest version is 3.7). Be careful, there are important differences between Python 3 and Python 2."
      ]
    },
    {
      "cell_type": "markdown",
      "metadata": {
        "id": "Z2hhh0qN1WXM",
        "colab_type": "text"
      },
      "source": [
        "## Core Python\n",
        "\n",
        "### Variables\n",
        "\n",
        "Variables are typed dynamically:"
      ]
    },
    {
      "cell_type": "code",
      "metadata": {
        "id": "LiI0AYVV1WXO",
        "colab_type": "code",
        "colab": {},
        "outputId": "5b56af65-4767-478b-83a1-7395e051ea93"
      },
      "source": [
        "b = 1 # b is an integer\n",
        "print(b)"
      ],
      "execution_count": 0,
      "outputs": [
        {
          "output_type": "stream",
          "text": [
            "1\n"
          ],
          "name": "stdout"
        }
      ]
    },
    {
      "cell_type": "code",
      "metadata": {
        "id": "LRJHzXoW1WXm",
        "colab_type": "code",
        "colab": {},
        "outputId": "f04c4f2b-2da5-4ad3-bc64-0bdc4f0542aa"
      },
      "source": [
        "b = 2.0*b # now be is a float\n",
        "print(b)"
      ],
      "execution_count": 0,
      "outputs": [
        {
          "output_type": "stream",
          "text": [
            "2.0\n"
          ],
          "name": "stdout"
        }
      ]
    },
    {
      "cell_type": "markdown",
      "metadata": {
        "id": "6_Fcum0b1WXx",
        "colab_type": "text"
      },
      "source": [
        "### Strings"
      ]
    },
    {
      "cell_type": "code",
      "metadata": {
        "id": "xHq8gui91WX0",
        "colab_type": "code",
        "colab": {},
        "outputId": "bfc85146-1b0f-431c-a092-f4f4b928d457"
      },
      "source": [
        "astring = 'Hello'\n",
        "another_string = \", World!\"\n",
        "print(astring+another_string) # Concatenation"
      ],
      "execution_count": 0,
      "outputs": [
        {
          "output_type": "stream",
          "text": [
            "Hello, World!\n"
          ],
          "name": "stdout"
        }
      ]
    },
    {
      "cell_type": "markdown",
      "metadata": {
        "id": "Sl84OA9x1WX6",
        "colab_type": "text"
      },
      "source": [
        "#### Slicing"
      ]
    },
    {
      "cell_type": "code",
      "metadata": {
        "id": "Y3046AzW1WX9",
        "colab_type": "code",
        "colab": {},
        "outputId": "77f732d7-d43c-4c29-984f-e26ea4e401c3"
      },
      "source": [
        "print(another_string[2:4])"
      ],
      "execution_count": 0,
      "outputs": [
        {
          "output_type": "stream",
          "text": [
            "Wo\n"
          ],
          "name": "stdout"
        }
      ]
    },
    {
      "cell_type": "code",
      "metadata": {
        "id": "38dCp65T1WYL",
        "colab_type": "code",
        "colab": {},
        "outputId": "dfd6d16b-f7c6-42fd-e4e0-08e0204ecdbd"
      },
      "source": [
        "print(another_string[2:-1]) # Slicing again"
      ],
      "execution_count": 0,
      "outputs": [
        {
          "output_type": "stream",
          "text": [
            "World\n"
          ],
          "name": "stdout"
        }
      ]
    },
    {
      "cell_type": "markdown",
      "metadata": {
        "id": "20ySrWdz1WYV",
        "colab_type": "text"
      },
      "source": [
        "#### Strings are immutable"
      ]
    },
    {
      "cell_type": "code",
      "metadata": {
        "id": "7moVD1CK1WYZ",
        "colab_type": "code",
        "colab": {},
        "outputId": "22d9c9e7-0065-448c-b282-0a2b11d976c2"
      },
      "source": [
        "astring[0]\n",
        "astring[0]='h'"
      ],
      "execution_count": 0,
      "outputs": [
        {
          "output_type": "error",
          "ename": "TypeError",
          "evalue": "'str' object does not support item assignment",
          "traceback": [
            "\u001b[0;31m---------------------------------------------------------------------------\u001b[0m",
            "\u001b[0;31mTypeError\u001b[0m                                 Traceback (most recent call last)",
            "\u001b[0;32m<ipython-input-57-6ecc1b995d61>\u001b[0m in \u001b[0;36m<module>\u001b[0;34m\u001b[0m\n\u001b[1;32m      1\u001b[0m \u001b[0mastring\u001b[0m\u001b[0;34m[\u001b[0m\u001b[0;36m0\u001b[0m\u001b[0;34m]\u001b[0m\u001b[0;34m\u001b[0m\u001b[0;34m\u001b[0m\u001b[0m\n\u001b[0;32m----> 2\u001b[0;31m \u001b[0mastring\u001b[0m\u001b[0;34m[\u001b[0m\u001b[0;36m0\u001b[0m\u001b[0;34m]\u001b[0m\u001b[0;34m=\u001b[0m\u001b[0;34m'h'\u001b[0m\u001b[0;34m\u001b[0m\u001b[0;34m\u001b[0m\u001b[0m\n\u001b[0m",
            "\u001b[0;31mTypeError\u001b[0m: 'str' object does not support item assignment"
          ]
        }
      ]
    },
    {
      "cell_type": "markdown",
      "metadata": {
        "id": "ouHh6u6T1WYe",
        "colab_type": "text"
      },
      "source": [
        "### Tuples\n",
        "\n",
        "Tuples are sequences of arbitrary objects. They are also immutable."
      ]
    },
    {
      "cell_type": "code",
      "metadata": {
        "id": "yQZEQR6X1WYh",
        "colab_type": "code",
        "colab": {},
        "outputId": "1762ee53-5691-4ac2-fd31-247d80365a4d"
      },
      "source": [
        "t = (1, 'one', 'un') # this is a tuple\n",
        "_, b, _ = t # unpacking\n",
        "print(b)"
      ],
      "execution_count": 0,
      "outputs": [
        {
          "output_type": "stream",
          "text": [
            "one\n"
          ],
          "name": "stdout"
        }
      ]
    },
    {
      "cell_type": "code",
      "metadata": {
        "id": "5ZAy4Bb11WYm",
        "colab_type": "code",
        "colab": {},
        "outputId": "3ce40176-7456-49f8-cc78-b3d5015b2ce5"
      },
      "source": [
        "print(t[1])"
      ],
      "execution_count": 0,
      "outputs": [
        {
          "output_type": "stream",
          "text": [
            "one\n"
          ],
          "name": "stdout"
        }
      ]
    },
    {
      "cell_type": "code",
      "metadata": {
        "id": "YF1w4kVa1WYr",
        "colab_type": "code",
        "colab": {},
        "outputId": "4d7cde23-e255-4130-ad9e-40934aca1af0"
      },
      "source": [
        "words = t[1:] # slicing\n",
        "print(words)"
      ],
      "execution_count": 0,
      "outputs": [
        {
          "output_type": "stream",
          "text": [
            "('one', 'un')\n"
          ],
          "name": "stdout"
        }
      ]
    },
    {
      "cell_type": "markdown",
      "metadata": {
        "id": "tYROEOBL1WYv",
        "colab_type": "text"
      },
      "source": [
        "### Lists\n",
        "\n",
        "Lists are similar to tuples but they are mutable."
      ]
    },
    {
      "cell_type": "code",
      "metadata": {
        "id": "3hGUAeSy1WYy",
        "colab_type": "code",
        "colab": {},
        "outputId": "57a77217-9392-418d-8559-493a50875b5e"
      },
      "source": [
        "a = [1, 'one']\n",
        "a.append('un')\n",
        "print(a)"
      ],
      "execution_count": 0,
      "outputs": [
        {
          "output_type": "stream",
          "text": [
            "[1, 'one', 'un']\n"
          ],
          "name": "stdout"
        }
      ]
    },
    {
      "cell_type": "code",
      "metadata": {
        "id": "MSlSMng11WY5",
        "colab_type": "code",
        "colab": {},
        "outputId": "908e41d7-12b1-4913-c08d-178d9ba52081"
      },
      "source": [
        "a.insert(0, '0') # insertion\n",
        "print(a)"
      ],
      "execution_count": 0,
      "outputs": [
        {
          "output_type": "stream",
          "text": [
            "['0', 1, 'one', 'un']\n"
          ],
          "name": "stdout"
        }
      ]
    },
    {
      "cell_type": "code",
      "metadata": {
        "id": "bNYYGArF1WY9",
        "colab_type": "code",
        "colab": {},
        "outputId": "2151f7e9-2252-422c-fc54-1bbca0b7efe9"
      },
      "source": [
        "print(len(a)) # length"
      ],
      "execution_count": 0,
      "outputs": [
        {
          "output_type": "stream",
          "text": [
            "4\n"
          ],
          "name": "stdout"
        }
      ]
    },
    {
      "cell_type": "code",
      "metadata": {
        "id": "uV2N8eA31WZD",
        "colab_type": "code",
        "colab": {}
      },
      "source": [
        "a[1:] = ['foo', 'bar', 'coin'] # slicing and modification\n",
        "print(a)"
      ],
      "execution_count": 0,
      "outputs": []
    },
    {
      "cell_type": "markdown",
      "metadata": {
        "id": "4aZWkw5i1WZK",
        "colab_type": "text"
      },
      "source": [
        "Lists can also be used to define matrices, but numpy arrays are much more convenient (see below)."
      ]
    },
    {
      "cell_type": "markdown",
      "metadata": {
        "id": "TwaQrjVt1WZL",
        "colab_type": "text"
      },
      "source": [
        "More on [slicing](https://stackoverflow.com/questions/509211/understanding-pythons-slice-notation)."
      ]
    },
    {
      "cell_type": "markdown",
      "metadata": {
        "id": "xbXx04981WZL",
        "colab_type": "text"
      },
      "source": [
        "#### Exercises on slicing\n",
        "\n",
        "Let a be a list:\n",
        "1. Create a list containing all the elements in a, except the last 2.\n",
        "2. Create a list containing only the first 2 elements of a, in reverse."
      ]
    },
    {
      "cell_type": "code",
      "metadata": {
        "id": "laR3wCxR1WZM",
        "colab_type": "code",
        "colab": {},
        "outputId": "74f16b87-37f0-4cca-b683-c26b42601dce"
      },
      "source": [
        "a = [1, 2, 3, 4, 5]\n",
        "b = a[:-2]\n",
        "print(b)"
      ],
      "execution_count": 0,
      "outputs": [
        {
          "output_type": "stream",
          "text": [
            "[1, 2, 3]\n"
          ],
          "name": "stdout"
        }
      ]
    },
    {
      "cell_type": "code",
      "metadata": {
        "id": "HquRkd0u1WZS",
        "colab_type": "code",
        "colab": {},
        "outputId": "7c9a2f61-07ed-4185-a203-4fc67b183be7"
      },
      "source": [
        "c = a[1::-1]\n",
        "print(c)"
      ],
      "execution_count": 0,
      "outputs": [
        {
          "output_type": "stream",
          "text": [
            "[2, 1]\n"
          ],
          "name": "stdout"
        }
      ]
    },
    {
      "cell_type": "markdown",
      "metadata": {
        "id": "5KHN6E8a1WZY",
        "colab_type": "text"
      },
      "source": [
        "### Conditionals"
      ]
    },
    {
      "cell_type": "code",
      "metadata": {
        "id": "NyU7jKeL1WZa",
        "colab_type": "code",
        "colab": {},
        "outputId": "d00b1a4f-00ec-40a5-eaae-deb03c10b67d"
      },
      "source": [
        "# indentation is part of the language, not just style!\n",
        "a = 1\n",
        "if a < 0:\n",
        "    print('negative')\n",
        "else:\n",
        "    print('positive or null')"
      ],
      "execution_count": 0,
      "outputs": [
        {
          "output_type": "error",
          "ename": "IndentationError",
          "evalue": "unexpected indent (<ipython-input-68-023f6fe98d4a>, line 3)",
          "traceback": [
            "\u001b[0;36m  File \u001b[0;32m\"<ipython-input-68-023f6fe98d4a>\"\u001b[0;36m, line \u001b[0;32m3\u001b[0m\n\u001b[0;31m    if a < 0:\u001b[0m\n\u001b[0m    ^\u001b[0m\n\u001b[0;31mIndentationError\u001b[0m\u001b[0;31m:\u001b[0m unexpected indent\n"
          ]
        }
      ]
    },
    {
      "cell_type": "markdown",
      "metadata": {
        "id": "tEjscuWj1WZd",
        "colab_type": "text"
      },
      "source": [
        "### Error Control\n",
        "\n",
        "Python has exception handling:"
      ]
    },
    {
      "cell_type": "code",
      "metadata": {
        "id": "aP6-BHcQ1WZe",
        "colab_type": "code",
        "colab": {},
        "outputId": "f5da7e97-8dbe-40d7-9132-723550b440e5"
      },
      "source": [
        "try:\n",
        "    a = 1\n",
        "    a / 0.0\n",
        "except ZeroDivisionError as e:\n",
        "    print(\"you can't do that!\")"
      ],
      "execution_count": 0,
      "outputs": [
        {
          "output_type": "stream",
          "text": [
            "you can't do that!\n"
          ],
          "name": "stdout"
        }
      ]
    },
    {
      "cell_type": "markdown",
      "metadata": {
        "id": "xBfBfnl21WZt",
        "colab_type": "text"
      },
      "source": [
        "### Assertions\n",
        "\n",
        "Assertions will raise an error when their argument is False, they are a great way to safeguard your code:"
      ]
    },
    {
      "cell_type": "code",
      "metadata": {
        "id": "BVGCKJYr1WZ2",
        "colab_type": "code",
        "colab": {}
      },
      "source": [
        "def sqrt(x):\n",
        "    assert(x>=0), \"you can't do that either!\"\n",
        "    return x**(0.5)"
      ],
      "execution_count": 0,
      "outputs": []
    },
    {
      "cell_type": "code",
      "metadata": {
        "id": "QLQlnIQG1WaG",
        "colab_type": "code",
        "colab": {},
        "outputId": "4ca09577-9ec6-4be6-bc4e-380a40987aed"
      },
      "source": [
        "sqrt(2)"
      ],
      "execution_count": 0,
      "outputs": [
        {
          "output_type": "execute_result",
          "data": {
            "text/plain": [
              "1.4142135623730951"
            ]
          },
          "metadata": {
            "tags": []
          },
          "execution_count": 72
        }
      ]
    },
    {
      "cell_type": "code",
      "metadata": {
        "id": "TY-L-rRh1WaN",
        "colab_type": "code",
        "colab": {},
        "outputId": "28c56c5e-ea48-4e4e-e0f5-eb46731d3b8a"
      },
      "source": [
        "sqrt(-2)"
      ],
      "execution_count": 0,
      "outputs": [
        {
          "output_type": "error",
          "ename": "AssertionError",
          "evalue": "you can't do that either!",
          "traceback": [
            "\u001b[0;31m---------------------------------------------------------------------------\u001b[0m",
            "\u001b[0;31mAssertionError\u001b[0m                            Traceback (most recent call last)",
            "\u001b[0;32m<ipython-input-73-84fde6a6eea1>\u001b[0m in \u001b[0;36m<module>\u001b[0;34m\u001b[0m\n\u001b[0;32m----> 1\u001b[0;31m \u001b[0msqrt\u001b[0m\u001b[0;34m(\u001b[0m\u001b[0;34m-\u001b[0m\u001b[0;36m2\u001b[0m\u001b[0;34m)\u001b[0m\u001b[0;34m\u001b[0m\u001b[0;34m\u001b[0m\u001b[0m\n\u001b[0m",
            "\u001b[0;32m<ipython-input-71-6cd2a51c9872>\u001b[0m in \u001b[0;36msqrt\u001b[0;34m(x)\u001b[0m\n\u001b[1;32m      1\u001b[0m \u001b[0;32mdef\u001b[0m \u001b[0msqrt\u001b[0m\u001b[0;34m(\u001b[0m\u001b[0mx\u001b[0m\u001b[0;34m)\u001b[0m\u001b[0;34m:\u001b[0m\u001b[0;34m\u001b[0m\u001b[0;34m\u001b[0m\u001b[0m\n\u001b[0;32m----> 2\u001b[0;31m     \u001b[0;32massert\u001b[0m\u001b[0;34m(\u001b[0m\u001b[0mx\u001b[0m\u001b[0;34m>=\u001b[0m\u001b[0;36m0\u001b[0m\u001b[0;34m)\u001b[0m\u001b[0;34m,\u001b[0m \u001b[0;34m\"you can't do that either!\"\u001b[0m\u001b[0;34m\u001b[0m\u001b[0;34m\u001b[0m\u001b[0m\n\u001b[0m\u001b[1;32m      3\u001b[0m     \u001b[0;32mreturn\u001b[0m \u001b[0mx\u001b[0m\u001b[0;34m**\u001b[0m\u001b[0;34m(\u001b[0m\u001b[0;36m0.5\u001b[0m\u001b[0;34m)\u001b[0m\u001b[0;34m\u001b[0m\u001b[0;34m\u001b[0m\u001b[0m\n",
            "\u001b[0;31mAssertionError\u001b[0m: you can't do that either!"
          ]
        }
      ]
    },
    {
      "cell_type": "markdown",
      "metadata": {
        "id": "E1r0qotf1Wan",
        "colab_type": "text"
      },
      "source": [
        "### Loops\n",
        "\n",
        "The for loop requires a sequence of elements to loop over:"
      ]
    },
    {
      "cell_type": "code",
      "metadata": {
        "id": "jH0QMgND1Was",
        "colab_type": "code",
        "colab": {},
        "outputId": "2a10665f-8d96-4d25-dca4-57248539144d"
      },
      "source": [
        "# such as a list\n",
        "a = ['a', 1, 2]\n",
        "for x in a:\n",
        "    print(x)"
      ],
      "execution_count": 0,
      "outputs": [
        {
          "output_type": "stream",
          "text": [
            "a\n",
            "1\n",
            "2\n"
          ],
          "name": "stdout"
        }
      ]
    },
    {
      "cell_type": "code",
      "metadata": {
        "id": "b293edT71Wa1",
        "colab_type": "code",
        "colab": {},
        "outputId": "6bda45e7-d9d8-4939-b4ad-e553d2698540"
      },
      "source": [
        "# or a sequence returned by 'range'\n",
        "for i in range(5):\n",
        "    print(i)"
      ],
      "execution_count": 0,
      "outputs": [
        {
          "output_type": "stream",
          "text": [
            "0\n",
            "1\n",
            "2\n",
            "3\n",
            "4\n"
          ],
          "name": "stdout"
        }
      ]
    },
    {
      "cell_type": "markdown",
      "metadata": {
        "id": "gPCGN8TO1WbH",
        "colab_type": "text"
      },
      "source": [
        "### Type conversion"
      ]
    },
    {
      "cell_type": "code",
      "metadata": {
        "id": "BlrDxkDe1WbN",
        "colab_type": "code",
        "colab": {},
        "outputId": "b4b43381-aede-40fe-e832-4a33475ced4f"
      },
      "source": [
        "# String to int\n",
        "a = '1'\n",
        "b = '2'\n",
        "print(a+b)\n"
      ],
      "execution_count": 0,
      "outputs": [
        {
          "output_type": "stream",
          "text": [
            "12\n"
          ],
          "name": "stdout"
        }
      ]
    },
    {
      "cell_type": "code",
      "metadata": {
        "id": "Bt3rcN781Wba",
        "colab_type": "code",
        "colab": {},
        "outputId": "61fb546f-6091-4f26-f60b-20d5bd99a936"
      },
      "source": [
        "print(int(a)+int(b))"
      ],
      "execution_count": 0,
      "outputs": [
        {
          "output_type": "stream",
          "text": [
            "3\n"
          ],
          "name": "stdout"
        }
      ]
    },
    {
      "cell_type": "markdown",
      "metadata": {
        "id": "8UURD3po1Wbd",
        "colab_type": "text"
      },
      "source": [
        "### References\n",
        "\n",
        "Mutable objects are references\n"
      ]
    },
    {
      "cell_type": "code",
      "metadata": {
        "id": "lztPqHVR1Wbe",
        "colab_type": "code",
        "colab": {},
        "outputId": "cdfb01ed-f187-412d-cf6f-cfe3c42063a1"
      },
      "source": [
        "a = ['a', 'b', 'c']\n",
        "b = a # b is a reference, i.e., an 'alias' for a\n",
        "b[0] = 'qwerty' # Modify b\n",
        "print(a) # a is modified too"
      ],
      "execution_count": 0,
      "outputs": [
        {
          "output_type": "stream",
          "text": [
            "['qwerty', 'b', 'c']\n"
          ],
          "name": "stdout"
        }
      ]
    },
    {
      "cell_type": "code",
      "metadata": {
        "id": "a9Nn6Gsx1Wbr",
        "colab_type": "code",
        "colab": {},
        "outputId": "7eff05ac-8f3a-4bc0-e50c-6412f07fe123"
      },
      "source": [
        "c = a[:] # c is an independent copy of a\n",
        "c[0] = 'trewq' # Modify c\n",
        "print(a) # a isn't modified"
      ],
      "execution_count": 0,
      "outputs": [
        {
          "output_type": "stream",
          "text": [
            "['qwerty', 'b', 'c']\n"
          ],
          "name": "stdout"
        }
      ]
    },
    {
      "cell_type": "markdown",
      "metadata": {
        "id": "sqPkSZ101Wb8",
        "colab_type": "text"
      },
      "source": [
        "### Functions\n",
        "\n",
        "A function is defined using the 'def' keyword:"
      ]
    },
    {
      "cell_type": "code",
      "metadata": {
        "id": "KbAQ3Hzv1WcC",
        "colab_type": "code",
        "colab": {}
      },
      "source": [
        "def my_great_function(a, b, c):\n",
        "    return (a+b)*c"
      ],
      "execution_count": 0,
      "outputs": []
    },
    {
      "cell_type": "code",
      "metadata": {
        "id": "j1HK9G2-1WcG",
        "colab_type": "code",
        "colab": {},
        "outputId": "067d74aa-db27-40d3-c00d-77366e1b504e"
      },
      "source": [
        "my_great_function(1, 2, 3)"
      ],
      "execution_count": 0,
      "outputs": [
        {
          "output_type": "execute_result",
          "data": {
            "text/plain": [
              "-3"
            ]
          },
          "metadata": {
            "tags": []
          },
          "execution_count": 80
        }
      ]
    },
    {
      "cell_type": "code",
      "metadata": {
        "id": "kQvbMAc_1WcM",
        "colab_type": "code",
        "colab": {}
      },
      "source": [
        "def my_great_function(a, b, c, verbose=False): # last parameter has a default value\n",
        "    if verbose:\n",
        "        print(\"We will do something great\")\n",
        "    return (a-b)*c"
      ],
      "execution_count": 0,
      "outputs": []
    },
    {
      "cell_type": "code",
      "metadata": {
        "id": "4_D6hRHT1WcU",
        "colab_type": "code",
        "colab": {},
        "outputId": "2180c79f-ac5a-4c82-9f6d-f0c573ade32e"
      },
      "source": [
        "my_great_function(1, 2, 3)"
      ],
      "execution_count": 0,
      "outputs": [
        {
          "output_type": "execute_result",
          "data": {
            "text/plain": [
              "-3"
            ]
          },
          "metadata": {
            "tags": []
          },
          "execution_count": 82
        }
      ]
    },
    {
      "cell_type": "code",
      "metadata": {
        "id": "GQavc_Ow1Wc-",
        "colab_type": "code",
        "colab": {},
        "outputId": "ba04d4c2-b5b0-4e8b-a9f7-db5db751130a"
      },
      "source": [
        "my_great_function(1, 2, 3, True)"
      ],
      "execution_count": 0,
      "outputs": [
        {
          "output_type": "stream",
          "text": [
            "We will do something great\n"
          ],
          "name": "stdout"
        },
        {
          "output_type": "execute_result",
          "data": {
            "text/plain": [
              "-3"
            ]
          },
          "metadata": {
            "tags": []
          },
          "execution_count": 83
        }
      ]
    },
    {
      "cell_type": "markdown",
      "metadata": {
        "id": "cPmib0b71WdD",
        "colab_type": "text"
      },
      "source": [
        "### Exercise: what's the value of b after my_function was called?"
      ]
    },
    {
      "cell_type": "code",
      "metadata": {
        "id": "-z3GDcvC1WdE",
        "colab_type": "code",
        "colab": {},
        "outputId": "85cf5ab9-2f59-40ca-a6af-eb98db3012b1"
      },
      "source": [
        "def my_function(x, y):\n",
        "    x = x + y # also written x+= y\n",
        "    \n",
        "b = 3\n",
        "my_function(b, 2)\n",
        "print(b)"
      ],
      "execution_count": 0,
      "outputs": [
        {
          "output_type": "stream",
          "text": [
            "3\n"
          ],
          "name": "stdout"
        }
      ]
    },
    {
      "cell_type": "code",
      "metadata": {
        "id": "lCWUevD61WdM",
        "colab_type": "code",
        "colab": {},
        "outputId": "81838dfb-d193-480f-ef0b-997ea979a84a"
      },
      "source": [
        "def my_function(x, y):\n",
        "    x.append(y)\n",
        "    \n",
        "b = [ 3 ]\n",
        "my_function(b, 2)\n",
        "print(b)"
      ],
      "execution_count": 0,
      "outputs": [
        {
          "output_type": "stream",
          "text": [
            "[3, 2]\n"
          ],
          "name": "stdout"
        }
      ]
    },
    {
      "cell_type": "markdown",
      "metadata": {
        "id": "P4sjKyFD1WdS",
        "colab_type": "text"
      },
      "source": [
        "### Mathematical functions and modules\n",
        "\n",
        "#### Core functions"
      ]
    },
    {
      "cell_type": "code",
      "metadata": {
        "id": "5xyZxbuP1WdV",
        "colab_type": "code",
        "colab": {},
        "outputId": "af24382f-e869-4b24-8b9b-e9b89b9fa373"
      },
      "source": [
        "\n",
        "abs(-1)"
      ],
      "execution_count": 0,
      "outputs": [
        {
          "output_type": "execute_result",
          "data": {
            "text/plain": [
              "1"
            ]
          },
          "metadata": {
            "tags": []
          },
          "execution_count": 86
        }
      ]
    },
    {
      "cell_type": "code",
      "metadata": {
        "id": "40srQcT81Wdc",
        "colab_type": "code",
        "colab": {},
        "outputId": "391e7cf1-a8eb-4c76-cd4e-db6602725ac7"
      },
      "source": [
        "max(1, 2, 3)"
      ],
      "execution_count": 0,
      "outputs": [
        {
          "output_type": "execute_result",
          "data": {
            "text/plain": [
              "3"
            ]
          },
          "metadata": {
            "tags": []
          },
          "execution_count": 87
        }
      ]
    },
    {
      "cell_type": "markdown",
      "metadata": {
        "id": "Nbn5Np5l1Wdn",
        "colab_type": "text"
      },
      "source": [
        "#### *math* module\n",
        "Most functions are in the math module. A module is imported like this:"
      ]
    },
    {
      "cell_type": "code",
      "metadata": {
        "id": "mgzHUEXq1Wdo",
        "colab_type": "code",
        "colab": {},
        "outputId": "354a86b6-5e54-42ea-9ec1-86c19e4da1bc"
      },
      "source": [
        "import math\n",
        "math.log(1)"
      ],
      "execution_count": 0,
      "outputs": [
        {
          "output_type": "execute_result",
          "data": {
            "text/plain": [
              "0.0"
            ]
          },
          "metadata": {
            "tags": []
          },
          "execution_count": 88
        }
      ]
    },
    {
      "cell_type": "markdown",
      "metadata": {
        "id": "S587_W7V1Wdy",
        "colab_type": "text"
      },
      "source": [
        "Specific functions can also be imported:"
      ]
    },
    {
      "cell_type": "code",
      "metadata": {
        "id": "pzbO-DK01Wdz",
        "colab_type": "code",
        "colab": {},
        "outputId": "455b2050-6a27-4e57-8cec-10c75773ad06"
      },
      "source": [
        "from math import sin\n",
        "sin(0)"
      ],
      "execution_count": 0,
      "outputs": [
        {
          "output_type": "execute_result",
          "data": {
            "text/plain": [
              "0.0"
            ]
          },
          "metadata": {
            "tags": []
          },
          "execution_count": 89
        }
      ]
    },
    {
      "cell_type": "markdown",
      "metadata": {
        "id": "HyjpGM8d1Wd9",
        "colab_type": "text"
      },
      "source": [
        "All the functions in a module can be imported:"
      ]
    },
    {
      "cell_type": "code",
      "metadata": {
        "id": "g6dz0DaH1Wd-",
        "colab_type": "code",
        "colab": {},
        "outputId": "cdf5424a-7e47-4c77-f1b4-7f49c8ded161"
      },
      "source": [
        "from math import *\n",
        "cos(0)"
      ],
      "execution_count": 0,
      "outputs": [
        {
          "output_type": "execute_result",
          "data": {
            "text/plain": [
              "1.0"
            ]
          },
          "metadata": {
            "tags": []
          },
          "execution_count": 90
        }
      ]
    },
    {
      "cell_type": "markdown",
      "metadata": {
        "id": "9XkIxcAt1Weh",
        "colab_type": "text"
      },
      "source": [
        "And in case of name collisions between modules, functions can also be renamed:\n"
      ]
    },
    {
      "cell_type": "code",
      "metadata": {
        "id": "vJvG_LGz1Wei",
        "colab_type": "code",
        "colab": {},
        "outputId": "b1d2758d-1851-4835-e0a4-2f2624eb5bfc"
      },
      "source": [
        "from math import sqrt as the_right_sqrt\n",
        "the_right_sqrt(-1)"
      ],
      "execution_count": 0,
      "outputs": [
        {
          "output_type": "error",
          "ename": "ValueError",
          "evalue": "math domain error",
          "traceback": [
            "\u001b[0;31m---------------------------------------------------------------------------\u001b[0m",
            "\u001b[0;31mValueError\u001b[0m                                Traceback (most recent call last)",
            "\u001b[0;32m<ipython-input-91-b8315c1dd5fa>\u001b[0m in \u001b[0;36m<module>\u001b[0;34m\u001b[0m\n\u001b[1;32m      1\u001b[0m \u001b[0;32mfrom\u001b[0m \u001b[0mmath\u001b[0m \u001b[0;32mimport\u001b[0m \u001b[0msqrt\u001b[0m \u001b[0;32mas\u001b[0m \u001b[0mthe_right_sqrt\u001b[0m\u001b[0;34m\u001b[0m\u001b[0;34m\u001b[0m\u001b[0m\n\u001b[0;32m----> 2\u001b[0;31m \u001b[0mthe_right_sqrt\u001b[0m\u001b[0;34m(\u001b[0m\u001b[0;34m-\u001b[0m\u001b[0;36m1\u001b[0m\u001b[0;34m)\u001b[0m\u001b[0;34m\u001b[0m\u001b[0;34m\u001b[0m\u001b[0m\n\u001b[0m",
            "\u001b[0;31mValueError\u001b[0m: math domain error"
          ]
        }
      ]
    },
    {
      "cell_type": "markdown",
      "metadata": {
        "id": "rI3_aumf1Wey",
        "colab_type": "text"
      },
      "source": [
        "#### *numpy* Module\n",
        "\n",
        "This module introduces array objects similar to lists, but that can be manipulated through numerous functions of the module.\n",
        "\n",
        "The size of an array is immutable, array elements are mutable.\n",
        "\n",
        "#### Creating an array"
      ]
    },
    {
      "cell_type": "code",
      "metadata": {
        "id": "U5ROeTv01We1",
        "colab_type": "code",
        "colab": {},
        "outputId": "d54ae1cf-5282-415e-87b6-a7496206e4aa"
      },
      "source": [
        "from numpy import array\n",
        "a = array([1, 2, 3]) # a 1x3 array\n",
        "print(a)"
      ],
      "execution_count": 0,
      "outputs": [
        {
          "output_type": "stream",
          "text": [
            "[1 2 3]\n"
          ],
          "name": "stdout"
        }
      ]
    },
    {
      "cell_type": "code",
      "metadata": {
        "id": "vvKCnKGe1We4",
        "colab_type": "code",
        "colab": {},
        "outputId": "fcb2a118-4e1e-42c2-e070-495018a31f35"
      },
      "source": [
        "b = array([[0, 1, 2],[3, 4, 5]]) # a 2x3 array\n",
        "print(b)"
      ],
      "execution_count": 0,
      "outputs": [
        {
          "output_type": "stream",
          "text": [
            "[[0 1 2]\n",
            " [3 4 5]]\n"
          ],
          "name": "stdout"
        }
      ]
    },
    {
      "cell_type": "markdown",
      "metadata": {
        "id": "0nn3MqEG1WfC",
        "colab_type": "text"
      },
      "source": [
        "#### Shape of an array"
      ]
    },
    {
      "cell_type": "code",
      "metadata": {
        "id": "9-YWmI5c1WfO",
        "colab_type": "code",
        "colab": {},
        "outputId": "38833b33-9259-4452-97dc-7aa2489e74b7"
      },
      "source": [
        "from numpy import shape\n",
        "shape(b) # Getting the shape of an array"
      ],
      "execution_count": 0,
      "outputs": [
        {
          "output_type": "execute_result",
          "data": {
            "text/plain": [
              "(2, 3)"
            ]
          },
          "metadata": {
            "tags": []
          },
          "execution_count": 95
        }
      ]
    },
    {
      "cell_type": "markdown",
      "metadata": {
        "id": "O6WhPyBa1WfV",
        "colab_type": "text"
      },
      "source": [
        "#### Creating zeros, ones and ranges"
      ]
    },
    {
      "cell_type": "code",
      "metadata": {
        "id": "Xk953IQV1WfW",
        "colab_type": "code",
        "colab": {},
        "outputId": "f8756e0f-e6c4-46c3-9d78-1524bf24aaa0"
      },
      "source": [
        "from numpy import zeros\n",
        "c = zeros((2,3), dtype=int) # a 2x3 array filled with 0s\n",
        "print(c)"
      ],
      "execution_count": 0,
      "outputs": [
        {
          "output_type": "stream",
          "text": [
            "[[0 0 0]\n",
            " [0 0 0]]\n"
          ],
          "name": "stdout"
        }
      ]
    },
    {
      "cell_type": "code",
      "metadata": {
        "id": "GJlDpDln1Wfb",
        "colab_type": "code",
        "colab": {},
        "outputId": "71ce569d-dcea-4799-cb55-360fab53e48c"
      },
      "source": [
        "from numpy import ones\n",
        "d = ones(10)*7\n",
        "print(d)"
      ],
      "execution_count": 0,
      "outputs": [
        {
          "output_type": "stream",
          "text": [
            "[7. 7. 7. 7. 7. 7. 7. 7. 7. 7.]\n"
          ],
          "name": "stdout"
        }
      ]
    },
    {
      "cell_type": "code",
      "metadata": {
        "id": "9PGDz81u1Wfq",
        "colab_type": "code",
        "colab": {},
        "outputId": "aaa85179-acfa-42d9-dd69-ad9c8be5956b"
      },
      "source": [
        "from numpy import arange\n",
        "e = arange(1, 100)\n",
        "print(e)"
      ],
      "execution_count": 0,
      "outputs": [
        {
          "output_type": "stream",
          "text": [
            "[ 1  2  3  4  5  6  7  8  9 10 11 12 13 14 15 16 17 18 19 20 21 22 23 24\n",
            " 25 26 27 28 29 30 31 32 33 34 35 36 37 38 39 40 41 42 43 44 45 46 47 48\n",
            " 49 50 51 52 53 54 55 56 57 58 59 60 61 62 63 64 65 66 67 68 69 70 71 72\n",
            " 73 74 75 76 77 78 79 80 81 82 83 84 85 86 87 88 89 90 91 92 93 94 95 96\n",
            " 97 98 99]\n"
          ],
          "name": "stdout"
        }
      ]
    },
    {
      "cell_type": "markdown",
      "metadata": {
        "id": "3mjK6ySZ1WgC",
        "colab_type": "text"
      },
      "source": [
        "#### Modifying an array"
      ]
    },
    {
      "cell_type": "code",
      "metadata": {
        "id": "qYQ04lIZ1WgF",
        "colab_type": "code",
        "colab": {},
        "outputId": "da05085f-4806-4d8a-d1e3-e9966cfba134"
      },
      "source": [
        "c[1, 2] = 7\n",
        "c[0, 0] = 9\n",
        "print(c)"
      ],
      "execution_count": 0,
      "outputs": [
        {
          "output_type": "stream",
          "text": [
            "[[9 0 0]\n",
            " [0 0 7]]\n"
          ],
          "name": "stdout"
        }
      ]
    },
    {
      "cell_type": "markdown",
      "metadata": {
        "id": "7sLONLIc1WgK",
        "colab_type": "text"
      },
      "source": [
        "#### Slicing"
      ]
    },
    {
      "cell_type": "code",
      "metadata": {
        "id": "08-aYXsT1WgL",
        "colab_type": "code",
        "colab": {},
        "outputId": "4feee591-a6f6-45a1-8992-e933fc440e61"
      },
      "source": [
        "c[1,:] # Access row 1"
      ],
      "execution_count": 0,
      "outputs": [
        {
          "output_type": "execute_result",
          "data": {
            "text/plain": [
              "array([0, 0, 7])"
            ]
          },
          "metadata": {
            "tags": []
          },
          "execution_count": 103
        }
      ]
    },
    {
      "cell_type": "code",
      "metadata": {
        "id": "uT_KsW551WgU",
        "colab_type": "code",
        "colab": {},
        "outputId": "7b18c3a2-1b47-4940-b94d-18b4a7694fb5"
      },
      "source": [
        "c[:,1] # Access column 1"
      ],
      "execution_count": 0,
      "outputs": [
        {
          "output_type": "execute_result",
          "data": {
            "text/plain": [
              "array([0, 0])"
            ]
          },
          "metadata": {
            "tags": []
          },
          "execution_count": 104
        }
      ]
    },
    {
      "cell_type": "code",
      "metadata": {
        "id": "wNWIST2b1WgZ",
        "colab_type": "code",
        "colab": {},
        "outputId": "d180ed51-18bb-4b92-ec1f-60667d0d30b2"
      },
      "source": [
        "c[1, 1:] # All the elements of row 1 except the first one"
      ],
      "execution_count": 0,
      "outputs": [
        {
          "output_type": "execute_result",
          "data": {
            "text/plain": [
              "array([0, 7])"
            ]
          },
          "metadata": {
            "tags": []
          },
          "execution_count": 105
        }
      ]
    },
    {
      "cell_type": "code",
      "metadata": {
        "id": "AbUoiBeL1Wgd",
        "colab_type": "code",
        "colab": {},
        "outputId": "3148475f-2d75-4be3-b0cb-1e82e087a832"
      },
      "source": [
        "# Slice modification\n",
        "a = [0, 1, 2]\n",
        "a[1:2] = ['a', 'b']\n",
        "print(a)\n",
        "c[:,1] = [4, 6]\n",
        "print(c)"
      ],
      "execution_count": 0,
      "outputs": [
        {
          "output_type": "stream",
          "text": [
            "[0, 'a', 'b', 2]\n",
            "[[9 4 0]\n",
            " [0 6 7]]\n"
          ],
          "name": "stdout"
        }
      ]
    },
    {
      "cell_type": "markdown",
      "metadata": {
        "id": "0YcDo0mH1Wgi",
        "colab_type": "text"
      },
      "source": [
        "#### Exercise\n",
        "\n",
        "Write a function that returns an array passed as an argument, except row $i$."
      ]
    },
    {
      "cell_type": "code",
      "metadata": {
        "id": "ABla3u_X1Wgj",
        "colab_type": "code",
        "colab": {}
      },
      "source": [
        "from numpy import *\n",
        "def remove_row(a, i):\n",
        "    n, m = shape(a)\n",
        "    b = zeros((n-1, m))\n",
        "    for k in range(n-1):\n",
        "        if k < i:\n",
        "            b[k] = a[k]\n",
        "        else:\n",
        "            b[k] = a[k+1]\n",
        "    return b"
      ],
      "execution_count": 0,
      "outputs": []
    },
    {
      "cell_type": "code",
      "metadata": {
        "id": "wftakARA1Wgm",
        "colab_type": "code",
        "colab": {}
      },
      "source": [
        "a = array([[0,1],[1,2],[2,3]])\n",
        "print(remove_row(a, 1))"
      ],
      "execution_count": 0,
      "outputs": []
    },
    {
      "cell_type": "code",
      "metadata": {
        "id": "U5HcX0CV1Wgt",
        "colab_type": "code",
        "colab": {}
      },
      "source": [
        "shape(a)"
      ],
      "execution_count": 0,
      "outputs": []
    },
    {
      "cell_type": "markdown",
      "metadata": {
        "id": "LuBWhufp1Wg5",
        "colab_type": "text"
      },
      "source": [
        "#### Operations on arrays\n",
        "\n",
        "Arithmetic operations are *broadcast* to all the elements in the array:"
      ]
    },
    {
      "cell_type": "code",
      "metadata": {
        "id": "QlY9DtrR1Wg7",
        "colab_type": "code",
        "colab": {},
        "outputId": "a7f54490-4b5d-4ea7-ad59-db7388a02c18"
      },
      "source": [
        "a = array([1, 2, 3])\n",
        "a + 1"
      ],
      "execution_count": 0,
      "outputs": [
        {
          "output_type": "execute_result",
          "data": {
            "text/plain": [
              "array([2, 3, 4])"
            ]
          },
          "metadata": {
            "tags": []
          },
          "execution_count": 109
        }
      ]
    },
    {
      "cell_type": "code",
      "metadata": {
        "id": "r0w5GA8_1Wg-",
        "colab_type": "code",
        "colab": {},
        "outputId": "00f01a75-229f-4a77-bd37-b4bee6d67805"
      },
      "source": [
        "a / 2"
      ],
      "execution_count": 0,
      "outputs": [
        {
          "output_type": "execute_result",
          "data": {
            "text/plain": [
              "array([0.5, 1. , 1.5])"
            ]
          },
          "metadata": {
            "tags": []
          },
          "execution_count": 110
        }
      ]
    },
    {
      "cell_type": "markdown",
      "metadata": {
        "id": "tpolYkzR1WhB",
        "colab_type": "text"
      },
      "source": [
        "Mathematical functions available in numpy are also broadcast:"
      ]
    },
    {
      "cell_type": "code",
      "metadata": {
        "id": "Xy-D-uE11WhC",
        "colab_type": "code",
        "colab": {},
        "outputId": "8c5c21ff-9470-4acd-8298-f10a46a0b551"
      },
      "source": [
        "from numpy import sqrt, cos, sin\n",
        "from math import sqrt\n",
        "sqrt(a)"
      ],
      "execution_count": 0,
      "outputs": [
        {
          "output_type": "error",
          "ename": "TypeError",
          "evalue": "only size-1 arrays can be converted to Python scalars",
          "traceback": [
            "\u001b[0;31m---------------------------------------------------------------------------\u001b[0m",
            "\u001b[0;31mTypeError\u001b[0m                                 Traceback (most recent call last)",
            "\u001b[0;32m<ipython-input-112-bc05d93f8714>\u001b[0m in \u001b[0;36m<module>\u001b[0;34m\u001b[0m\n\u001b[1;32m      1\u001b[0m \u001b[0;32mfrom\u001b[0m \u001b[0mnumpy\u001b[0m \u001b[0;32mimport\u001b[0m \u001b[0msqrt\u001b[0m\u001b[0;34m,\u001b[0m \u001b[0mcos\u001b[0m\u001b[0;34m,\u001b[0m \u001b[0msin\u001b[0m\u001b[0;34m\u001b[0m\u001b[0;34m\u001b[0m\u001b[0m\n\u001b[1;32m      2\u001b[0m \u001b[0;32mfrom\u001b[0m \u001b[0mmath\u001b[0m \u001b[0;32mimport\u001b[0m \u001b[0msqrt\u001b[0m\u001b[0;34m\u001b[0m\u001b[0;34m\u001b[0m\u001b[0m\n\u001b[0;32m----> 3\u001b[0;31m \u001b[0msqrt\u001b[0m\u001b[0;34m(\u001b[0m\u001b[0ma\u001b[0m\u001b[0;34m)\u001b[0m\u001b[0;34m\u001b[0m\u001b[0;34m\u001b[0m\u001b[0m\n\u001b[0m",
            "\u001b[0;31mTypeError\u001b[0m: only size-1 arrays can be converted to Python scalars"
          ]
        }
      ]
    },
    {
      "cell_type": "code",
      "metadata": {
        "id": "8m0wdAIT1WhS",
        "colab_type": "code",
        "colab": {},
        "outputId": "dfa4054f-5034-4f6b-c2f1-0a03cdbbb356"
      },
      "source": [
        "cos(a)"
      ],
      "execution_count": 0,
      "outputs": [
        {
          "output_type": "execute_result",
          "data": {
            "text/plain": [
              "array([ 0.54030231, -0.41614684, -0.9899925 ])"
            ]
          },
          "metadata": {
            "tags": []
          },
          "execution_count": 113
        }
      ]
    },
    {
      "cell_type": "code",
      "metadata": {
        "id": "p1ID0oe81WhX",
        "colab_type": "code",
        "colab": {},
        "outputId": "ba4bbb5a-76a3-4169-c9f2-8d2ee09f00cf"
      },
      "source": [
        "sin(a)"
      ],
      "execution_count": 0,
      "outputs": [
        {
          "output_type": "execute_result",
          "data": {
            "text/plain": [
              "array([0.84147098, 0.90929743, 0.14112001])"
            ]
          },
          "metadata": {
            "tags": []
          },
          "execution_count": 114
        }
      ]
    },
    {
      "cell_type": "markdown",
      "metadata": {
        "id": "1ws72miw1Whb",
        "colab_type": "text"
      },
      "source": [
        "Functions imported from the math module won't work on the array:"
      ]
    },
    {
      "cell_type": "code",
      "metadata": {
        "id": "-_15iKPo1Whg",
        "colab_type": "code",
        "colab": {},
        "outputId": "5cf71010-acf1-4c86-d4f4-865494d8719f"
      },
      "source": [
        "from math import sqrt\n",
        "sqrt(a)"
      ],
      "execution_count": 0,
      "outputs": [
        {
          "output_type": "error",
          "ename": "TypeError",
          "evalue": "only size-1 arrays can be converted to Python scalars",
          "traceback": [
            "\u001b[0;31m---------------------------------------------------------------------------\u001b[0m",
            "\u001b[0;31mTypeError\u001b[0m                                 Traceback (most recent call last)",
            "\u001b[0;32m<ipython-input-115-7aab024d2386>\u001b[0m in \u001b[0;36m<module>\u001b[0;34m\u001b[0m\n\u001b[1;32m      1\u001b[0m \u001b[0;32mfrom\u001b[0m \u001b[0mmath\u001b[0m \u001b[0;32mimport\u001b[0m \u001b[0msqrt\u001b[0m\u001b[0;34m\u001b[0m\u001b[0;34m\u001b[0m\u001b[0m\n\u001b[0;32m----> 2\u001b[0;31m \u001b[0msqrt\u001b[0m\u001b[0;34m(\u001b[0m\u001b[0ma\u001b[0m\u001b[0;34m)\u001b[0m\u001b[0;34m\u001b[0m\u001b[0;34m\u001b[0m\u001b[0m\n\u001b[0m",
            "\u001b[0;31mTypeError\u001b[0m: only size-1 arrays can be converted to Python scalars"
          ]
        }
      ]
    },
    {
      "cell_type": "code",
      "metadata": {
        "id": "kr8vm0aa1Whl",
        "colab_type": "code",
        "colab": {},
        "outputId": "9819b55f-5584-452e-db17-b157ac7f3bcd"
      },
      "source": [
        "sqrt(a[0]) # of course this works!"
      ],
      "execution_count": 0,
      "outputs": [
        {
          "output_type": "execute_result",
          "data": {
            "text/plain": [
              "1.0"
            ]
          },
          "metadata": {
            "tags": []
          },
          "execution_count": 116
        }
      ]
    },
    {
      "cell_type": "markdown",
      "metadata": {
        "id": "KgonMGRn1Whq",
        "colab_type": "text"
      },
      "source": [
        "#### Array functions\n",
        "\n",
        "There are many functions in numpy to perform operations on arrays:"
      ]
    },
    {
      "cell_type": "code",
      "metadata": {
        "id": "hNQWYQ2k1Whq",
        "colab_type": "code",
        "colab": {},
        "outputId": "07f0b140-c874-40e5-c93f-1ac13e51b664"
      },
      "source": [
        "from numpy import *\n",
        "a = array([[1, 2, 3], [4, 5, 6], [7, 8, 9]])\n",
        "diagonal(a)\n"
      ],
      "execution_count": 0,
      "outputs": [
        {
          "output_type": "execute_result",
          "data": {
            "text/plain": [
              "array([1, 5, 9])"
            ]
          },
          "metadata": {
            "tags": []
          },
          "execution_count": 117
        }
      ]
    },
    {
      "cell_type": "code",
      "metadata": {
        "id": "OjRvPIUy1Wht",
        "colab_type": "code",
        "colab": {},
        "outputId": "453a3a60-3138-4b4e-e88d-aaf1f050fe06"
      },
      "source": [
        "sum(a)"
      ],
      "execution_count": 0,
      "outputs": [
        {
          "output_type": "execute_result",
          "data": {
            "text/plain": [
              "45"
            ]
          },
          "metadata": {
            "tags": []
          },
          "execution_count": 118
        }
      ]
    },
    {
      "cell_type": "code",
      "metadata": {
        "id": "Yk2XFr871Whw",
        "colab_type": "code",
        "colab": {},
        "outputId": "c8b19d52-ffee-4df3-9726-8c94fa6ebe80"
      },
      "source": [
        "b = array([1, 2, 3])\n",
        "c = array([4, 5, 6])\n",
        "dot(b, c)"
      ],
      "execution_count": 0,
      "outputs": [
        {
          "output_type": "execute_result",
          "data": {
            "text/plain": [
              "32"
            ]
          },
          "metadata": {
            "tags": []
          },
          "execution_count": 119
        }
      ]
    },
    {
      "cell_type": "markdown",
      "metadata": {
        "id": "caIMt_qG1Wh1",
        "colab_type": "text"
      },
      "source": [
        "#### Linear algebra module"
      ]
    },
    {
      "cell_type": "code",
      "metadata": {
        "id": "PJtt11_Y1Wh2",
        "colab_type": "code",
        "colab": {},
        "outputId": "abacf73f-7eb5-4641-e7f4-375103f21d89"
      },
      "source": [
        "from numpy import array\n",
        "from numpy.linalg import inv\n",
        "\n",
        "a = array([[1, 2, 3], [4, 5, 6], [7, 8, 10]])\n",
        "inv(a) # inverse of a"
      ],
      "execution_count": 0,
      "outputs": [
        {
          "output_type": "execute_result",
          "data": {
            "text/plain": [
              "array([[-0.66666667, -1.33333333,  1.        ],\n",
              "       [-0.66666667,  3.66666667, -2.        ],\n",
              "       [ 1.        , -2.        ,  1.        ]])"
            ]
          },
          "metadata": {
            "tags": []
          },
          "execution_count": 120
        }
      ]
    },
    {
      "cell_type": "markdown",
      "metadata": {
        "id": "OD5OjyqW1WiB",
        "colab_type": "text"
      },
      "source": [
        "#### Copying arrays\n",
        "\n",
        "An array is mutable, therefore it is passed as a reference (alias) to functions:"
      ]
    },
    {
      "cell_type": "code",
      "metadata": {
        "id": "qquDaubG1WiC",
        "colab_type": "code",
        "colab": {},
        "outputId": "c5d276d6-4c81-440f-8d41-afb9e2443229"
      },
      "source": [
        "from numpy import array\n",
        "def do_stuff(x):\n",
        "    x[0, 0] = 99999\n",
        "a = array([[1, 2, 3], [4, 5, 6], [7, 8, 10]])\n",
        "do_stuff(a) # this modifies a itself\n",
        "print(a)"
      ],
      "execution_count": 0,
      "outputs": [
        {
          "output_type": "stream",
          "text": [
            "[[99999     2     3]\n",
            " [    4     5     6]\n",
            " [    7     8    10]]\n"
          ],
          "name": "stdout"
        }
      ]
    },
    {
      "cell_type": "markdown",
      "metadata": {
        "id": "cljXik7Y1WiF",
        "colab_type": "text"
      },
      "source": [
        "To work on an individual copy, use the copy function in the numpy module:"
      ]
    },
    {
      "cell_type": "code",
      "metadata": {
        "id": "9IoyVFQf1WiG",
        "colab_type": "code",
        "colab": {},
        "outputId": "3b062ee4-1ac6-4128-bca6-7d78a1efa92d"
      },
      "source": [
        "from numpy import copy, array\n",
        "def do_stuff(a):\n",
        "    a = a.copy()\n",
        "    a[0, 0] = 99999\n",
        "a = array([[1, 2, 3], [4, 5, 6], [7, 8, 10]])\n",
        "do_stuff(a) # this doesn't modify a\n",
        "print(a)"
      ],
      "execution_count": 0,
      "outputs": [
        {
          "output_type": "stream",
          "text": [
            "[[ 1  2  3]\n",
            " [ 4  5  6]\n",
            " [ 7  8 10]]\n"
          ],
          "name": "stdout"
        }
      ]
    },
    {
      "cell_type": "markdown",
      "metadata": {
        "id": "asC5OKX71WiM",
        "colab_type": "text"
      },
      "source": [
        "#### Vectorizing Algorithms\n",
        "\n",
        "Sometimes the broadcasting properties of the mathematical functions in the numpy module can be used to replace loops. For instance, consider the following expression:\n",
        "$$\n",
        "s = \\sum_{i=1}^{100} i^2\n",
        "$$\n",
        "\n",
        "Procedural code:"
      ]
    },
    {
      "cell_type": "code",
      "metadata": {
        "id": "QltZNXDx1WiN",
        "colab_type": "code",
        "colab": {},
        "outputId": "16fc33ce-fe17-4679-a7cc-a9d2aefb826f"
      },
      "source": [
        "s = 0\n",
        "for i in range(1, 101):\n",
        "    s += i**2\n",
        "print(s)"
      ],
      "execution_count": 0,
      "outputs": [
        {
          "output_type": "stream",
          "text": [
            "338350\n"
          ],
          "name": "stdout"
        }
      ]
    },
    {
      "cell_type": "markdown",
      "metadata": {
        "id": "34VnU_0U1WiO",
        "colab_type": "text"
      },
      "source": [
        "Vectorized code:"
      ]
    },
    {
      "cell_type": "code",
      "metadata": {
        "id": "2XZGabeq1WiP",
        "colab_type": "code",
        "colab": {},
        "outputId": "b87db040-e9d2-4f9a-8c1d-03872414695e"
      },
      "source": [
        "from numpy import *\n",
        "a = arange(101)\n",
        "s = sum(power(a, 2))\n",
        "print(s)"
      ],
      "execution_count": 0,
      "outputs": [
        {
          "output_type": "stream",
          "text": [
            "338350\n"
          ],
          "name": "stdout"
        }
      ]
    },
    {
      "cell_type": "markdown",
      "metadata": {
        "id": "93LA930R1WiQ",
        "colab_type": "text"
      },
      "source": [
        "## Plotting with *matplotlib*\n",
        "\n",
        "As part of the SciPy ecosystem, matplotlib works nicely with numpy arrays:"
      ]
    },
    {
      "cell_type": "code",
      "metadata": {
        "id": "iQ9PLO111WiR",
        "colab_type": "code",
        "colab": {},
        "outputId": "d8b510cf-97c7-4400-85de-6925758aca80"
      },
      "source": [
        "from numpy import ones, arange, cos\n",
        "import matplotlib.pyplot as plt\n",
        "\n",
        "x = arange(6)\n",
        "y = cos(arange(6)/6)\n",
        "plt.plot(x, y)\n",
        "plt.show()"
      ],
      "execution_count": 0,
      "outputs": [
        {
          "output_type": "display_data",
          "data": {
            "image/png": "[encoded data removed]",
            "text/plain": [
              "<Figure size 432x288 with 1 Axes>"
            ]
          },
          "metadata": {
            "tags": [],
            "needs_background": "light"
          }
        }
      ]
    },
    {
      "cell_type": "markdown",
      "metadata": {
        "id": "YCSE6MSP1WiT",
        "colab_type": "text"
      },
      "source": [
        "### Getting help\n",
        "\n",
        "* Python's built-in help (based on docstrings)"
      ]
    },
    {
      "cell_type": "code",
      "metadata": {
        "id": "UjCpT7tX1WiT",
        "colab_type": "code",
        "colab": {},
        "outputId": "1c610976-8752-4f94-e276-b870076cd63f"
      },
      "source": [
        "from numpy import tanh\n",
        "help(tanh)"
      ],
      "execution_count": 0,
      "outputs": [
        {
          "output_type": "stream",
          "text": [
            "Help on ufunc object:\n",
            "\n",
            "tanh = class ufunc(builtins.object)\n",
            " |  Functions that operate element by element on whole arrays.\n",
            " |  \n",
            " |  To see the documentation for a specific ufunc, use `info`.  For\n",
            " |  example, ``np.info(np.sin)``.  Because ufuncs are written in C\n",
            " |  (for speed) and linked into Python with NumPy's ufunc facility,\n",
            " |  Python's help() function finds this page whenever help() is called\n",
            " |  on a ufunc.\n",
            " |  \n",
            " |  A detailed explanation of ufuncs can be found in the docs for :ref:`ufuncs`.\n",
            " |  \n",
            " |  Calling ufuncs:\n",
            " |  ===============\n",
            " |  \n",
            " |  op(*x[, out], where=True, **kwargs)\n",
            " |  Apply `op` to the arguments `*x` elementwise, broadcasting the arguments.\n",
            " |  \n",
            " |  The broadcasting rules are:\n",
            " |  \n",
            " |  * Dimensions of length 1 may be prepended to either array.\n",
            " |  * Arrays may be repeated along dimensions of length 1.\n",
            " |  \n",
            " |  Parameters\n",
            " |  ----------\n",
            " |  *x : array_like\n",
            " |      Input arrays.\n",
            " |  out : ndarray, None, or tuple of ndarray and None, optional\n",
            " |      Alternate array object(s) in which to put the result; if provided, it\n",
            " |      must have a shape that the inputs broadcast to. A tuple of arrays\n",
            " |      (possible only as a keyword argument) must have length equal to the\n",
            " |      number of outputs; use `None` for uninitialized outputs to be\n",
            " |      allocated by the ufunc.\n",
            " |  where : array_like, optional\n",
            " |      Values of True indicate to calculate the ufunc at that position, values\n",
            " |      of False indicate to leave the value in the output alone.  Note that if\n",
            " |      an uninitialized return array is created via the default ``out=None``,\n",
            " |      then the elements where the values are False will remain uninitialized.\n",
            " |  **kwargs\n",
            " |      For other keyword-only arguments, see the :ref:`ufunc docs <ufuncs.kwargs>`.\n",
            " |  \n",
            " |  Returns\n",
            " |  -------\n",
            " |  r : ndarray or tuple of ndarray\n",
            " |      `r` will have the shape that the arrays in `x` broadcast to; if `out` is\n",
            " |      provided, it will be returned. If not, `r` will be allocated and\n",
            " |      may contain uninitialized values. If the function has more than one\n",
            " |      output, then the result will be a tuple of arrays.\n",
            " |  \n",
            " |  Methods defined here:\n",
            " |  \n",
            " |  __call__(self, /, *args, **kwargs)\n",
            " |      Call self as a function.\n",
            " |  \n",
            " |  __repr__(self, /)\n",
            " |      Return repr(self).\n",
            " |  \n",
            " |  __str__(self, /)\n",
            " |      Return str(self).\n",
            " |  \n",
            " |  accumulate(...)\n",
            " |      accumulate(array, axis=0, dtype=None, out=None)\n",
            " |      \n",
            " |      Accumulate the result of applying the operator to all elements.\n",
            " |      \n",
            " |      For a one-dimensional array, accumulate produces results equivalent to::\n",
            " |      \n",
            " |        r = np.empty(len(A))\n",
            " |        t = op.identity        # op = the ufunc being applied to A's  elements\n",
            " |        for i in range(len(A)):\n",
            " |            t = op(t, A[i])\n",
            " |            r[i] = t\n",
            " |        return r\n",
            " |      \n",
            " |      For example, add.accumulate() is equivalent to np.cumsum().\n",
            " |      \n",
            " |      For a multi-dimensional array, accumulate is applied along only one\n",
            " |      axis (axis zero by default; see Examples below) so repeated use is\n",
            " |      necessary if one wants to accumulate over multiple axes.\n",
            " |      \n",
            " |      Parameters\n",
            " |      ----------\n",
            " |      array : array_like\n",
            " |          The array to act on.\n",
            " |      axis : int, optional\n",
            " |          The axis along which to apply the accumulation; default is zero.\n",
            " |      dtype : data-type code, optional\n",
            " |          The data-type used to represent the intermediate results. Defaults\n",
            " |          to the data-type of the output array if such is provided, or the\n",
            " |          the data-type of the input array if no output array is provided.\n",
            " |      out : ndarray, None, or tuple of ndarray and None, optional\n",
            " |          A location into which the result is stored. If not provided or `None`,\n",
            " |          a freshly-allocated array is returned. For consistency with\n",
            " |          :ref:`ufunc.__call__`, if given as a keyword, this may be wrapped in a\n",
            " |          1-element tuple.\n",
            " |      \n",
            " |          .. versionchanged:: 1.13.0\n",
            " |             Tuples are allowed for keyword argument.\n",
            " |      \n",
            " |      Returns\n",
            " |      -------\n",
            " |      r : ndarray\n",
            " |          The accumulated values. If `out` was supplied, `r` is a reference to\n",
            " |          `out`.\n",
            " |      \n",
            " |      Examples\n",
            " |      --------\n",
            " |      1-D array examples:\n",
            " |      \n",
            " |      >>> np.add.accumulate([2, 3, 5])\n",
            " |      array([ 2,  5, 10])\n",
            " |      >>> np.multiply.accumulate([2, 3, 5])\n",
            " |      array([ 2,  6, 30])\n",
            " |      \n",
            " |      2-D array examples:\n",
            " |      \n",
            " |      >>> I = np.eye(2)\n",
            " |      >>> I\n",
            " |      array([[ 1.,  0.],\n",
            " |             [ 0.,  1.]])\n",
            " |      \n",
            " |      Accumulate along axis 0 (rows), down columns:\n",
            " |      \n",
            " |      >>> np.add.accumulate(I, 0)\n",
            " |      array([[ 1.,  0.],\n",
            " |             [ 1.,  1.]])\n",
            " |      >>> np.add.accumulate(I) # no axis specified = axis zero\n",
            " |      array([[ 1.,  0.],\n",
            " |             [ 1.,  1.]])\n",
            " |      \n",
            " |      Accumulate along axis 1 (columns), through rows:\n",
            " |      \n",
            " |      >>> np.add.accumulate(I, 1)\n",
            " |      array([[ 1.,  1.],\n",
            " |             [ 0.,  1.]])\n",
            " |  \n",
            " |  at(...)\n",
            " |      at(a, indices, b=None)\n",
            " |      \n",
            " |      Performs unbuffered in place operation on operand 'a' for elements\n",
            " |      specified by 'indices'. For addition ufunc, this method is equivalent to\n",
            " |      ``a[indices] += b``, except that results are accumulated for elements that\n",
            " |      are indexed more than once. For example, ``a[[0,0]] += 1`` will only\n",
            " |      increment the first element once because of buffering, whereas\n",
            " |      ``add.at(a, [0,0], 1)`` will increment the first element twice.\n",
            " |      \n",
            " |      .. versionadded:: 1.8.0\n",
            " |      \n",
            " |      Parameters\n",
            " |      ----------\n",
            " |      a : array_like\n",
            " |          The array to perform in place operation on.\n",
            " |      indices : array_like or tuple\n",
            " |          Array like index object or slice object for indexing into first\n",
            " |          operand. If first operand has multiple dimensions, indices can be a\n",
            " |          tuple of array like index objects or slice objects.\n",
            " |      b : array_like\n",
            " |          Second operand for ufuncs requiring two operands. Operand must be\n",
            " |          broadcastable over first operand after indexing or slicing.\n",
            " |      \n",
            " |      Examples\n",
            " |      --------\n",
            " |      Set items 0 and 1 to their negative values:\n",
            " |      \n",
            " |      >>> a = np.array([1, 2, 3, 4])\n",
            " |      >>> np.negative.at(a, [0, 1])\n",
            " |      >>> print(a)\n",
            " |      array([-1, -2, 3, 4])\n",
            " |      \n",
            " |      Increment items 0 and 1, and increment item 2 twice:\n",
            " |      \n",
            " |      >>> a = np.array([1, 2, 3, 4])\n",
            " |      >>> np.add.at(a, [0, 1, 2, 2], 1)\n",
            " |      >>> print(a)\n",
            " |      array([2, 3, 5, 4])\n",
            " |      \n",
            " |      Add items 0 and 1 in first array to second array,\n",
            " |      and store results in first array:\n",
            " |      \n",
            " |      >>> a = np.array([1, 2, 3, 4])\n",
            " |      >>> b = np.array([1, 2])\n",
            " |      >>> np.add.at(a, [0, 1], b)\n",
            " |      >>> print(a)\n",
            " |      array([2, 4, 3, 4])\n",
            " |  \n",
            " |  outer(...)\n",
            " |      outer(A, B, **kwargs)\n",
            " |      \n",
            " |      Apply the ufunc `op` to all pairs (a, b) with a in `A` and b in `B`.\n",
            " |      \n",
            " |      Let ``M = A.ndim``, ``N = B.ndim``. Then the result, `C`, of\n",
            " |      ``op.outer(A, B)`` is an array of dimension M + N such that:\n",
            " |      \n",
            " |      .. math:: C[i_0, ..., i_{M-1}, j_0, ..., j_{N-1}] =\n",
            " |         op(A[i_0, ..., i_{M-1}], B[j_0, ..., j_{N-1}])\n",
            " |      \n",
            " |      For `A` and `B` one-dimensional, this is equivalent to::\n",
            " |      \n",
            " |        r = empty(len(A),len(B))\n",
            " |        for i in range(len(A)):\n",
            " |            for j in range(len(B)):\n",
            " |                r[i,j] = op(A[i], B[j]) # op = ufunc in question\n",
            " |      \n",
            " |      Parameters\n",
            " |      ----------\n",
            " |      A : array_like\n",
            " |          First array\n",
            " |      B : array_like\n",
            " |          Second array\n",
            " |      kwargs : any\n",
            " |          Arguments to pass on to the ufunc. Typically `dtype` or `out`.\n",
            " |      \n",
            " |      Returns\n",
            " |      -------\n",
            " |      r : ndarray\n",
            " |          Output array\n",
            " |      \n",
            " |      See Also\n",
            " |      --------\n",
            " |      numpy.outer\n",
            " |      \n",
            " |      Examples\n",
            " |      --------\n",
            " |      >>> np.multiply.outer([1, 2, 3], [4, 5, 6])\n",
            " |      array([[ 4,  5,  6],\n",
            " |             [ 8, 10, 12],\n",
            " |             [12, 15, 18]])\n",
            " |      \n",
            " |      A multi-dimensional example:\n",
            " |      \n",
            " |      >>> A = np.array([[1, 2, 3], [4, 5, 6]])\n",
            " |      >>> A.shape\n",
            " |      (2, 3)\n",
            " |      >>> B = np.array([[1, 2, 3, 4]])\n",
            " |      >>> B.shape\n",
            " |      (1, 4)\n",
            " |      >>> C = np.multiply.outer(A, B)\n",
            " |      >>> C.shape; C\n",
            " |      (2, 3, 1, 4)\n",
            " |      array([[[[ 1,  2,  3,  4]],\n",
            " |              [[ 2,  4,  6,  8]],\n",
            " |              [[ 3,  6,  9, 12]]],\n",
            " |             [[[ 4,  8, 12, 16]],\n",
            " |              [[ 5, 10, 15, 20]],\n",
            " |              [[ 6, 12, 18, 24]]]])\n",
            " |  \n",
            " |  reduce(...)\n",
            " |      reduce(a, axis=0, dtype=None, out=None, keepdims=False, initial)\n",
            " |      \n",
            " |      Reduces `a`'s dimension by one, by applying ufunc along one axis.\n",
            " |      \n",
            " |      Let :math:`a.shape = (N_0, ..., N_i, ..., N_{M-1})`.  Then\n",
            " |      :math:`ufunc.reduce(a, axis=i)[k_0, ..,k_{i-1}, k_{i+1}, .., k_{M-1}]` =\n",
            " |      the result of iterating `j` over :math:`range(N_i)`, cumulatively applying\n",
            " |      ufunc to each :math:`a[k_0, ..,k_{i-1}, j, k_{i+1}, .., k_{M-1}]`.\n",
            " |      For a one-dimensional array, reduce produces results equivalent to:\n",
            " |      ::\n",
            " |      \n",
            " |       r = op.identity # op = ufunc\n",
            " |       for i in range(len(A)):\n",
            " |         r = op(r, A[i])\n",
            " |       return r\n",
            " |      \n",
            " |      For example, add.reduce() is equivalent to sum().\n",
            " |      \n",
            " |      Parameters\n",
            " |      ----------\n",
            " |      a : array_like\n",
            " |          The array to act on.\n",
            " |      axis : None or int or tuple of ints, optional\n",
            " |          Axis or axes along which a reduction is performed.\n",
            " |          The default (`axis` = 0) is perform a reduction over the first\n",
            " |          dimension of the input array. `axis` may be negative, in\n",
            " |          which case it counts from the last to the first axis.\n",
            " |      \n",
            " |          .. versionadded:: 1.7.0\n",
            " |      \n",
            " |          If this is `None`, a reduction is performed over all the axes.\n",
            " |          If this is a tuple of ints, a reduction is performed on multiple\n",
            " |          axes, instead of a single axis or all the axes as before.\n",
            " |      \n",
            " |          For operations which are either not commutative or not associative,\n",
            " |          doing a reduction over multiple axes is not well-defined. The\n",
            " |          ufuncs do not currently raise an exception in this case, but will\n",
            " |          likely do so in the future.\n",
            " |      dtype : data-type code, optional\n",
            " |          The type used to represent the intermediate results. Defaults\n",
            " |          to the data-type of the output array if this is provided, or\n",
            " |          the data-type of the input array if no output array is provided.\n",
            " |      out : ndarray, None, or tuple of ndarray and None, optional\n",
            " |          A location into which the result is stored. If not provided or `None`,\n",
            " |          a freshly-allocated array is returned. For consistency with\n",
            " |          :ref:`ufunc.__call__`, if given as a keyword, this may be wrapped in a\n",
            " |          1-element tuple.\n",
            " |      \n",
            " |          .. versionchanged:: 1.13.0\n",
            " |             Tuples are allowed for keyword argument.\n",
            " |      keepdims : bool, optional\n",
            " |          If this is set to True, the axes which are reduced are left\n",
            " |          in the result as dimensions with size one. With this option,\n",
            " |          the result will broadcast correctly against the original `arr`.\n",
            " |      \n",
            " |          .. versionadded:: 1.7.0\n",
            " |      initial : scalar, optional\n",
            " |          The value with which to start the reduction.\n",
            " |          If the ufunc has no identity or the dtype is object, this defaults\n",
            " |          to None - otherwise it defaults to ufunc.identity.\n",
            " |          If ``None`` is given, the first element of the reduction is used,\n",
            " |          and an error is thrown if the reduction is empty.\n",
            " |      \n",
            " |          .. versionadded:: 1.15.0\n",
            " |      \n",
            " |      Returns\n",
            " |      -------\n",
            " |      r : ndarray\n",
            " |          The reduced array. If `out` was supplied, `r` is a reference to it.\n",
            " |      \n",
            " |      Examples\n",
            " |      --------\n",
            " |      >>> np.multiply.reduce([2,3,5])\n",
            " |      30\n",
            " |      \n",
            " |      A multi-dimensional array example:\n",
            " |      \n",
            " |      >>> X = np.arange(8).reshape((2,2,2))\n",
            " |      >>> X\n",
            " |      array([[[0, 1],\n",
            " |              [2, 3]],\n",
            " |             [[4, 5],\n",
            " |              [6, 7]]])\n",
            " |      >>> np.add.reduce(X, 0)\n",
            " |      array([[ 4,  6],\n",
            " |             [ 8, 10]])\n",
            " |      >>> np.add.reduce(X) # confirm: default axis value is 0\n",
            " |      array([[ 4,  6],\n",
            " |             [ 8, 10]])\n",
            " |      >>> np.add.reduce(X, 1)\n",
            " |      array([[ 2,  4],\n",
            " |             [10, 12]])\n",
            " |      >>> np.add.reduce(X, 2)\n",
            " |      array([[ 1,  5],\n",
            " |             [ 9, 13]])\n",
            " |      \n",
            " |      You can use the ``initial`` keyword argument to initialize the reduction with a\n",
            " |      different value.\n",
            " |      \n",
            " |      >>> np.add.reduce([10], initial=5)\n",
            " |      15\n",
            " |      >>> np.add.reduce(np.ones((2, 2, 2)), axis=(0, 2), initializer=10)\n",
            " |      array([14., 14.])\n",
            " |      \n",
            " |      Allows reductions of empty arrays where they would normally fail, i.e.\n",
            " |      for ufuncs without an identity.\n",
            " |      \n",
            " |      >>> np.minimum.reduce([], initial=np.inf)\n",
            " |      inf\n",
            " |      >>> np.minimum.reduce([])\n",
            " |      Traceback (most recent call last):\n",
            " |          ...\n",
            " |      ValueError: zero-size array to reduction operation minimum which has no identity\n",
            " |  \n",
            " |  reduceat(...)\n",
            " |      reduceat(a, indices, axis=0, dtype=None, out=None)\n",
            " |      \n",
            " |      Performs a (local) reduce with specified slices over a single axis.\n",
            " |      \n",
            " |      For i in ``range(len(indices))``, `reduceat` computes\n",
            " |      ``ufunc.reduce(a[indices[i]:indices[i+1]])``, which becomes the i-th\n",
            " |      generalized \"row\" parallel to `axis` in the final result (i.e., in a\n",
            " |      2-D array, for example, if `axis = 0`, it becomes the i-th row, but if\n",
            " |      `axis = 1`, it becomes the i-th column).  There are three exceptions to this:\n",
            " |      \n",
            " |      * when ``i = len(indices) - 1`` (so for the last index),\n",
            " |        ``indices[i+1] = a.shape[axis]``.\n",
            " |      * if ``indices[i] >= indices[i + 1]``, the i-th generalized \"row\" is\n",
            " |        simply ``a[indices[i]]``.\n",
            " |      * if ``indices[i] >= len(a)`` or ``indices[i] < 0``, an error is raised.\n",
            " |      \n",
            " |      The shape of the output depends on the size of `indices`, and may be\n",
            " |      larger than `a` (this happens if ``len(indices) > a.shape[axis]``).\n",
            " |      \n",
            " |      Parameters\n",
            " |      ----------\n",
            " |      a : array_like\n",
            " |          The array to act on.\n",
            " |      indices : array_like\n",
            " |          Paired indices, comma separated (not colon), specifying slices to\n",
            " |          reduce.\n",
            " |      axis : int, optional\n",
            " |          The axis along which to apply the reduceat.\n",
            " |      dtype : data-type code, optional\n",
            " |          The type used to represent the intermediate results. Defaults\n",
            " |          to the data type of the output array if this is provided, or\n",
            " |          the data type of the input array if no output array is provided.\n",
            " |      out : ndarray, None, or tuple of ndarray and None, optional\n",
            " |          A location into which the result is stored. If not provided or `None`,\n",
            " |          a freshly-allocated array is returned. For consistency with\n",
            " |          :ref:`ufunc.__call__`, if given as a keyword, this may be wrapped in a\n",
            " |          1-element tuple.\n",
            " |      \n",
            " |          .. versionchanged:: 1.13.0\n",
            " |             Tuples are allowed for keyword argument.\n",
            " |      \n",
            " |      Returns\n",
            " |      -------\n",
            " |      r : ndarray\n",
            " |          The reduced values. If `out` was supplied, `r` is a reference to\n",
            " |          `out`.\n",
            " |      \n",
            " |      Notes\n",
            " |      -----\n",
            " |      A descriptive example:\n",
            " |      \n",
            " |      If `a` is 1-D, the function `ufunc.accumulate(a)` is the same as\n",
            " |      ``ufunc.reduceat(a, indices)[::2]`` where `indices` is\n",
            " |      ``range(len(array) - 1)`` with a zero placed\n",
            " |      in every other element:\n",
            " |      ``indices = zeros(2 * len(a) - 1)``, ``indices[1::2] = range(1, len(a))``.\n",
            " |      \n",
            " |      Don't be fooled by this attribute's name: `reduceat(a)` is not\n",
            " |      necessarily smaller than `a`.\n",
            " |      \n",
            " |      Examples\n",
            " |      --------\n",
            " |      To take the running sum of four successive values:\n",
            " |      \n",
            " |      >>> np.add.reduceat(np.arange(8),[0,4, 1,5, 2,6, 3,7])[::2]\n",
            " |      array([ 6, 10, 14, 18])\n",
            " |      \n",
            " |      A 2-D example:\n",
            " |      \n",
            " |      >>> x = np.linspace(0, 15, 16).reshape(4,4)\n",
            " |      >>> x\n",
            " |      array([[  0.,   1.,   2.,   3.],\n",
            " |             [  4.,   5.,   6.,   7.],\n",
            " |             [  8.,   9.,  10.,  11.],\n",
            " |             [ 12.,  13.,  14.,  15.]])\n",
            " |      \n",
            " |      ::\n",
            " |      \n",
            " |       # reduce such that the result has the following five rows:\n",
            " |       # [row1 + row2 + row3]\n",
            " |       # [row4]\n",
            " |       # [row2]\n",
            " |       # [row3]\n",
            " |       # [row1 + row2 + row3 + row4]\n",
            " |      \n",
            " |      >>> np.add.reduceat(x, [0, 3, 1, 2, 0])\n",
            " |      array([[ 12.,  15.,  18.,  21.],\n",
            " |             [ 12.,  13.,  14.,  15.],\n",
            " |             [  4.,   5.,   6.,   7.],\n",
            " |             [  8.,   9.,  10.,  11.],\n",
            " |             [ 24.,  28.,  32.,  36.]])\n",
            " |      \n",
            " |      ::\n",
            " |      \n",
            " |       # reduce such that result has the following two columns:\n",
            " |       # [col1 * col2 * col3, col4]\n",
            " |      \n",
            " |      >>> np.multiply.reduceat(x, [0, 3], 1)\n",
            " |      array([[    0.,     3.],\n",
            " |             [  120.,     7.],\n",
            " |             [  720.,    11.],\n",
            " |             [ 2184.,    15.]])\n",
            " |  \n",
            " |  ----------------------------------------------------------------------\n",
            " |  Data descriptors defined here:\n",
            " |  \n",
            " |  identity\n",
            " |      The identity value.\n",
            " |      \n",
            " |      Data attribute containing the identity element for the ufunc, if it has one.\n",
            " |      If it does not, the attribute value is None.\n",
            " |      \n",
            " |      Examples\n",
            " |      --------\n",
            " |      >>> np.add.identity\n",
            " |      0\n",
            " |      >>> np.multiply.identity\n",
            " |      1\n",
            " |      >>> np.power.identity\n",
            " |      1\n",
            " |      >>> print(np.exp.identity)\n",
            " |      None\n",
            " |  \n",
            " |  nargs\n",
            " |      The number of arguments.\n",
            " |      \n",
            " |      Data attribute containing the number of arguments the ufunc takes, including\n",
            " |      optional ones.\n",
            " |      \n",
            " |      Notes\n",
            " |      -----\n",
            " |      Typically this value will be one more than what you might expect because all\n",
            " |      ufuncs take  the optional \"out\" argument.\n",
            " |      \n",
            " |      Examples\n",
            " |      --------\n",
            " |      >>> np.add.nargs\n",
            " |      3\n",
            " |      >>> np.multiply.nargs\n",
            " |      3\n",
            " |      >>> np.power.nargs\n",
            " |      3\n",
            " |      >>> np.exp.nargs\n",
            " |      2\n",
            " |  \n",
            " |  nin\n",
            " |      The number of inputs.\n",
            " |      \n",
            " |      Data attribute containing the number of arguments the ufunc treats as input.\n",
            " |      \n",
            " |      Examples\n",
            " |      --------\n",
            " |      >>> np.add.nin\n",
            " |      2\n",
            " |      >>> np.multiply.nin\n",
            " |      2\n",
            " |      >>> np.power.nin\n",
            " |      2\n",
            " |      >>> np.exp.nin\n",
            " |      1\n",
            " |  \n",
            " |  nout\n",
            " |      The number of outputs.\n",
            " |      \n",
            " |      Data attribute containing the number of arguments the ufunc treats as output.\n",
            " |      \n",
            " |      Notes\n",
            " |      -----\n",
            " |      Since all ufuncs can take output arguments, this will always be (at least) 1.\n",
            " |      \n",
            " |      Examples\n",
            " |      --------\n",
            " |      >>> np.add.nout\n",
            " |      1\n",
            " |      >>> np.multiply.nout\n",
            " |      1\n",
            " |      >>> np.power.nout\n",
            " |      1\n",
            " |      >>> np.exp.nout\n",
            " |      1\n",
            " |  \n",
            " |  ntypes\n",
            " |      The number of types.\n",
            " |      \n",
            " |      The number of numerical NumPy types - of which there are 18 total - on which\n",
            " |      the ufunc can operate.\n",
            " |      \n",
            " |      See Also\n",
            " |      --------\n",
            " |      numpy.ufunc.types\n",
            " |      \n",
            " |      Examples\n",
            " |      --------\n",
            " |      >>> np.add.ntypes\n",
            " |      18\n",
            " |      >>> np.multiply.ntypes\n",
            " |      18\n",
            " |      >>> np.power.ntypes\n",
            " |      17\n",
            " |      >>> np.exp.ntypes\n",
            " |      7\n",
            " |      >>> np.remainder.ntypes\n",
            " |      14\n",
            " |  \n",
            " |  signature\n",
            " |      Definition of the core elements a generalized ufunc operates on.\n",
            " |      \n",
            " |      The signature determines how the dimensions of each input/output array\n",
            " |      are split into core and loop dimensions:\n",
            " |      \n",
            " |      1. Each dimension in the signature is matched to a dimension of the\n",
            " |         corresponding passed-in array, starting from the end of the shape tuple.\n",
            " |      2. Core dimensions assigned to the same label in the signature must have\n",
            " |         exactly matching sizes, no broadcasting is performed.\n",
            " |      3. The core dimensions are removed from all inputs and the remaining\n",
            " |         dimensions are broadcast together, defining the loop dimensions.\n",
            " |      \n",
            " |      Notes\n",
            " |      -----\n",
            " |      Generalized ufuncs are used internally in many linalg functions, and in\n",
            " |      the testing suite; the examples below are taken from these.\n",
            " |      For ufuncs that operate on scalars, the signature is `None`, which is\n",
            " |      equivalent to '()' for every argument.\n",
            " |      \n",
            " |      Examples\n",
            " |      --------\n",
            " |      >>> np.core.umath_tests.matrix_multiply.signature\n",
            " |      '(m,n),(n,p)->(m,p)'\n",
            " |      >>> np.linalg._umath_linalg.det.signature\n",
            " |      '(m,m)->()'\n",
            " |      >>> np.add.signature is None\n",
            " |      True  # equivalent to '(),()->()'\n",
            " |  \n",
            " |  types\n",
            " |      Returns a list with types grouped input->output.\n",
            " |      \n",
            " |      Data attribute listing the data-type \"Domain-Range\" groupings the ufunc can\n",
            " |      deliver. The data-types are given using the character codes.\n",
            " |      \n",
            " |      See Also\n",
            " |      --------\n",
            " |      numpy.ufunc.ntypes\n",
            " |      \n",
            " |      Examples\n",
            " |      --------\n",
            " |      >>> np.add.types\n",
            " |      ['??->?', 'bb->b', 'BB->B', 'hh->h', 'HH->H', 'ii->i', 'II->I', 'll->l',\n",
            " |      'LL->L', 'qq->q', 'QQ->Q', 'ff->f', 'dd->d', 'gg->g', 'FF->F', 'DD->D',\n",
            " |      'GG->G', 'OO->O']\n",
            " |      \n",
            " |      >>> np.multiply.types\n",
            " |      ['??->?', 'bb->b', 'BB->B', 'hh->h', 'HH->H', 'ii->i', 'II->I', 'll->l',\n",
            " |      'LL->L', 'qq->q', 'QQ->Q', 'ff->f', 'dd->d', 'gg->g', 'FF->F', 'DD->D',\n",
            " |      'GG->G', 'OO->O']\n",
            " |      \n",
            " |      >>> np.power.types\n",
            " |      ['bb->b', 'BB->B', 'hh->h', 'HH->H', 'ii->i', 'II->I', 'll->l', 'LL->L',\n",
            " |      'qq->q', 'QQ->Q', 'ff->f', 'dd->d', 'gg->g', 'FF->F', 'DD->D', 'GG->G',\n",
            " |      'OO->O']\n",
            " |      \n",
            " |      >>> np.exp.types\n",
            " |      ['f->f', 'd->d', 'g->g', 'F->F', 'D->D', 'G->G', 'O->O']\n",
            " |      \n",
            " |      >>> np.remainder.types\n",
            " |      ['bb->b', 'BB->B', 'hh->h', 'HH->H', 'ii->i', 'II->I', 'll->l', 'LL->L',\n",
            " |      'qq->q', 'QQ->Q', 'ff->f', 'dd->d', 'gg->g', 'OO->O']\n",
            "\n"
          ],
          "name": "stdout"
        }
      ]
    },
    {
      "cell_type": "markdown",
      "metadata": {
        "id": "-hZYQSTJ1Wih",
        "colab_type": "text"
      },
      "source": [
        "* [Python reference](https://docs.python.org/3/index.html)\n",
        "* [Numpy documentation](http://www.scipy.org)\n",
        "* [Stackoverflow](https://stackoverflow.com)"
      ]
    },
    {
      "cell_type": "markdown",
      "metadata": {
        "id": "v1SojXge1Wih",
        "colab_type": "text"
      },
      "source": [
        "As with any programming language, practice is the key! The assignments will help you with that."
      ]
    }
  ]
}